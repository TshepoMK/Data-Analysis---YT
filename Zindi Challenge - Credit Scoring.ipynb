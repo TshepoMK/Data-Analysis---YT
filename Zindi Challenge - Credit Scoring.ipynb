{
 "cells": [
  {
   "cell_type": "markdown",
   "metadata": {},
   "source": [
    "## Zindi Online Challenge\n",
    "\n",
    "\n",
    "http://zindi.africa/competitions/sbtic-xente-credit-scoring-challenge"
   ]
  },
  {
   "cell_type": "markdown",
   "metadata": {},
   "source": [
    "### Contents\n",
    "\n",
    "1. Imports\n",
    "2. EDA\n",
    "3. Feature Selection\n",
    "4. Benchmarking\n",
    "5. Test Data\n",
    "6. Machine Learning\n",
    "7. Bonus"
   ]
  },
  {
   "cell_type": "markdown",
   "metadata": {},
   "source": [
    "# 1. Imports"
   ]
  },
  {
   "cell_type": "code",
   "execution_count": 173,
   "metadata": {},
   "outputs": [],
   "source": [
    "%matplotlib inline\n",
    "import numpy as np\n",
    "import pandas as pd\n",
    "import seaborn as sns\n",
    "import pandas_profiling\n",
    "from sklearn import metrics\n",
    "import matplotlib.pyplot as plt"
   ]
  },
  {
   "cell_type": "code",
   "execution_count": 174,
   "metadata": {},
   "outputs": [],
   "source": [
    "import warnings\n",
    "warnings.filterwarnings('ignore')"
   ]
  },
  {
   "cell_type": "code",
   "execution_count": 175,
   "metadata": {},
   "outputs": [],
   "source": [
    "%matplotlib inline\n",
    "sns.set_style('whitegrid')\n",
    "sns.set(rc={'figure.figsize':(10, 6)})"
   ]
  },
  {
   "cell_type": "markdown",
   "metadata": {},
   "source": [
    "## 1.1 Helper Functions"
   ]
  },
  {
   "cell_type": "code",
   "execution_count": 176,
   "metadata": {},
   "outputs": [],
   "source": [
    "class DataProcess:\n",
    "    def __init__(self, df):\n",
    "        self.df = df\n",
    "        \n",
    "    def Numerical(df):\n",
    "        return df.select_dtypes(include=['int64', 'float64'])\n",
    "        \n",
    "    def Categorical(df):\n",
    "        return df.select_dtypes(include=['object'])\n",
    "        \n",
    "    def Missing(df):\n",
    "        return sns.heatmap(df.isnull(), cbar=False, cmap='viridis'); \n",
    "    \n",
    "    def df_joiner(df1, df2):\n",
    "        return pd.concat(df1, df2)\n",
    "    \n",
    "    def get_month(x):\n",
    "        return (x.month)\n",
    "\n",
    "    def get_year(x):\n",
    "        return (x.year)\n",
    "    \n",
    "    def get_day(x):\n",
    "        return (x.day)\n",
    "    \n",
    "    def correlation_map(df):\n",
    "        # Create figure and axes and set figure size\n",
    "        f, ax = plt.subplots(figsize=(20,10))\n",
    "        return sns.heatmap(data=df.corr(), annot=False);"
   ]
  },
  {
   "cell_type": "markdown",
   "metadata": {},
   "source": [
    "## 1.2 Read in Data"
   ]
  },
  {
   "cell_type": "code",
   "execution_count": 177,
   "metadata": {},
   "outputs": [],
   "source": [
    "train = pd.read_csv('./data/Train.csv')\n",
    "test = pd.read_csv('./data/Test.csv')\n",
    "sample = pd.read_csv('./data/sample_submission.csv')"
   ]
  },
  {
   "cell_type": "code",
   "execution_count": 178,
   "metadata": {},
   "outputs": [
    {
     "data": {
      "text/html": [
       "<div>\n",
       "<style scoped>\n",
       "    .dataframe tbody tr th:only-of-type {\n",
       "        vertical-align: middle;\n",
       "    }\n",
       "\n",
       "    .dataframe tbody tr th {\n",
       "        vertical-align: top;\n",
       "    }\n",
       "\n",
       "    .dataframe thead th {\n",
       "        text-align: right;\n",
       "    }\n",
       "</style>\n",
       "<table border=\"1\" class=\"dataframe\">\n",
       "  <thead>\n",
       "    <tr style=\"text-align: right;\">\n",
       "      <th></th>\n",
       "      <th>CustomerId</th>\n",
       "      <th>TransactionStartTime</th>\n",
       "      <th>Value</th>\n",
       "      <th>Amount</th>\n",
       "      <th>TransactionId</th>\n",
       "      <th>BatchId</th>\n",
       "      <th>SubscriptionId</th>\n",
       "      <th>CurrencyCode</th>\n",
       "      <th>CountryCode</th>\n",
       "      <th>ProviderId</th>\n",
       "      <th>...</th>\n",
       "      <th>LoanId</th>\n",
       "      <th>PaidOnDate</th>\n",
       "      <th>IsFinalPayBack</th>\n",
       "      <th>InvestorId</th>\n",
       "      <th>DueDate</th>\n",
       "      <th>LoanApplicationId</th>\n",
       "      <th>PayBackId</th>\n",
       "      <th>ThirdPartyId</th>\n",
       "      <th>IsThirdPartyConfirmed</th>\n",
       "      <th>IsDefaulted</th>\n",
       "    </tr>\n",
       "  </thead>\n",
       "  <tbody>\n",
       "    <tr>\n",
       "      <th>0</th>\n",
       "      <td>CustomerId_27</td>\n",
       "      <td>2018-09-21 12:17:39</td>\n",
       "      <td>550.0</td>\n",
       "      <td>-550.0</td>\n",
       "      <td>TransactionId_1683</td>\n",
       "      <td>BatchId_641</td>\n",
       "      <td>SubscriptionId_2</td>\n",
       "      <td>UGX</td>\n",
       "      <td>256</td>\n",
       "      <td>ProviderId_1</td>\n",
       "      <td>...</td>\n",
       "      <td>NaN</td>\n",
       "      <td>NaN</td>\n",
       "      <td>NaN</td>\n",
       "      <td>NaN</td>\n",
       "      <td>NaN</td>\n",
       "      <td>NaN</td>\n",
       "      <td>NaN</td>\n",
       "      <td>NaN</td>\n",
       "      <td>NaN</td>\n",
       "      <td>NaN</td>\n",
       "    </tr>\n",
       "    <tr>\n",
       "      <th>1</th>\n",
       "      <td>CustomerId_27</td>\n",
       "      <td>2018-09-25 09:20:29</td>\n",
       "      <td>550.0</td>\n",
       "      <td>-550.0</td>\n",
       "      <td>TransactionId_2235</td>\n",
       "      <td>BatchId_820</td>\n",
       "      <td>SubscriptionId_2</td>\n",
       "      <td>UGX</td>\n",
       "      <td>256</td>\n",
       "      <td>ProviderId_1</td>\n",
       "      <td>...</td>\n",
       "      <td>NaN</td>\n",
       "      <td>NaN</td>\n",
       "      <td>NaN</td>\n",
       "      <td>NaN</td>\n",
       "      <td>NaN</td>\n",
       "      <td>NaN</td>\n",
       "      <td>NaN</td>\n",
       "      <td>NaN</td>\n",
       "      <td>NaN</td>\n",
       "      <td>NaN</td>\n",
       "    </tr>\n",
       "    <tr>\n",
       "      <th>2</th>\n",
       "      <td>CustomerId_27</td>\n",
       "      <td>2018-09-25 10:33:31</td>\n",
       "      <td>550.0</td>\n",
       "      <td>-550.0</td>\n",
       "      <td>TransactionId_1053</td>\n",
       "      <td>BatchId_210</td>\n",
       "      <td>SubscriptionId_4</td>\n",
       "      <td>UGX</td>\n",
       "      <td>256</td>\n",
       "      <td>ProviderId_1</td>\n",
       "      <td>...</td>\n",
       "      <td>NaN</td>\n",
       "      <td>NaN</td>\n",
       "      <td>NaN</td>\n",
       "      <td>NaN</td>\n",
       "      <td>NaN</td>\n",
       "      <td>NaN</td>\n",
       "      <td>NaN</td>\n",
       "      <td>NaN</td>\n",
       "      <td>NaN</td>\n",
       "      <td>NaN</td>\n",
       "    </tr>\n",
       "    <tr>\n",
       "      <th>3</th>\n",
       "      <td>CustomerId_27</td>\n",
       "      <td>2018-09-27 10:26:41</td>\n",
       "      <td>1000.0</td>\n",
       "      <td>-1000.0</td>\n",
       "      <td>TransactionId_2633</td>\n",
       "      <td>BatchId_876</td>\n",
       "      <td>SubscriptionId_4</td>\n",
       "      <td>UGX</td>\n",
       "      <td>256</td>\n",
       "      <td>ProviderId_1</td>\n",
       "      <td>...</td>\n",
       "      <td>NaN</td>\n",
       "      <td>NaN</td>\n",
       "      <td>NaN</td>\n",
       "      <td>NaN</td>\n",
       "      <td>NaN</td>\n",
       "      <td>NaN</td>\n",
       "      <td>NaN</td>\n",
       "      <td>NaN</td>\n",
       "      <td>NaN</td>\n",
       "      <td>NaN</td>\n",
       "    </tr>\n",
       "    <tr>\n",
       "      <th>4</th>\n",
       "      <td>CustomerId_27</td>\n",
       "      <td>2018-09-27 12:44:21</td>\n",
       "      <td>500.0</td>\n",
       "      <td>-500.0</td>\n",
       "      <td>TransactionId_71</td>\n",
       "      <td>BatchId_1362</td>\n",
       "      <td>SubscriptionId_4</td>\n",
       "      <td>UGX</td>\n",
       "      <td>256</td>\n",
       "      <td>ProviderId_1</td>\n",
       "      <td>...</td>\n",
       "      <td>NaN</td>\n",
       "      <td>NaN</td>\n",
       "      <td>NaN</td>\n",
       "      <td>NaN</td>\n",
       "      <td>NaN</td>\n",
       "      <td>NaN</td>\n",
       "      <td>NaN</td>\n",
       "      <td>NaN</td>\n",
       "      <td>NaN</td>\n",
       "      <td>NaN</td>\n",
       "    </tr>\n",
       "  </tbody>\n",
       "</table>\n",
       "<p>5 rows × 27 columns</p>\n",
       "</div>"
      ],
      "text/plain": [
       "      CustomerId TransactionStartTime   Value  Amount       TransactionId  \\\n",
       "0  CustomerId_27  2018-09-21 12:17:39   550.0  -550.0  TransactionId_1683   \n",
       "1  CustomerId_27  2018-09-25 09:20:29   550.0  -550.0  TransactionId_2235   \n",
       "2  CustomerId_27  2018-09-25 10:33:31   550.0  -550.0  TransactionId_1053   \n",
       "3  CustomerId_27  2018-09-27 10:26:41  1000.0 -1000.0  TransactionId_2633   \n",
       "4  CustomerId_27  2018-09-27 12:44:21   500.0  -500.0    TransactionId_71   \n",
       "\n",
       "        BatchId    SubscriptionId CurrencyCode  CountryCode    ProviderId  \\\n",
       "0   BatchId_641  SubscriptionId_2          UGX          256  ProviderId_1   \n",
       "1   BatchId_820  SubscriptionId_2          UGX          256  ProviderId_1   \n",
       "2   BatchId_210  SubscriptionId_4          UGX          256  ProviderId_1   \n",
       "3   BatchId_876  SubscriptionId_4          UGX          256  ProviderId_1   \n",
       "4  BatchId_1362  SubscriptionId_4          UGX          256  ProviderId_1   \n",
       "\n",
       "      ...      LoanId PaidOnDate IsFinalPayBack  InvestorId DueDate  \\\n",
       "0     ...         NaN        NaN            NaN         NaN     NaN   \n",
       "1     ...         NaN        NaN            NaN         NaN     NaN   \n",
       "2     ...         NaN        NaN            NaN         NaN     NaN   \n",
       "3     ...         NaN        NaN            NaN         NaN     NaN   \n",
       "4     ...         NaN        NaN            NaN         NaN     NaN   \n",
       "\n",
       "   LoanApplicationId PayBackId ThirdPartyId IsThirdPartyConfirmed  IsDefaulted  \n",
       "0                NaN       NaN          NaN                   NaN          NaN  \n",
       "1                NaN       NaN          NaN                   NaN          NaN  \n",
       "2                NaN       NaN          NaN                   NaN          NaN  \n",
       "3                NaN       NaN          NaN                   NaN          NaN  \n",
       "4                NaN       NaN          NaN                   NaN          NaN  \n",
       "\n",
       "[5 rows x 27 columns]"
      ]
     },
     "execution_count": 178,
     "metadata": {},
     "output_type": "execute_result"
    }
   ],
   "source": [
    "train.head()"
   ]
  },
  {
   "cell_type": "code",
   "execution_count": 179,
   "metadata": {},
   "outputs": [
    {
     "data": {
      "text/html": [
       "<div>\n",
       "<style scoped>\n",
       "    .dataframe tbody tr th:only-of-type {\n",
       "        vertical-align: middle;\n",
       "    }\n",
       "\n",
       "    .dataframe tbody tr th {\n",
       "        vertical-align: top;\n",
       "    }\n",
       "\n",
       "    .dataframe thead th {\n",
       "        text-align: right;\n",
       "    }\n",
       "</style>\n",
       "<table border=\"1\" class=\"dataframe\">\n",
       "  <thead>\n",
       "    <tr style=\"text-align: right;\">\n",
       "      <th></th>\n",
       "      <th>CustomerId</th>\n",
       "      <th>TransactionStartTime</th>\n",
       "      <th>Value</th>\n",
       "      <th>Amount</th>\n",
       "      <th>TransactionId</th>\n",
       "      <th>BatchId</th>\n",
       "      <th>SubscriptionId</th>\n",
       "      <th>CurrencyCode</th>\n",
       "      <th>CountryCode</th>\n",
       "      <th>ProviderId</th>\n",
       "      <th>ProductId</th>\n",
       "      <th>ProductCategory</th>\n",
       "      <th>ChannelId</th>\n",
       "      <th>TransactionStatus</th>\n",
       "      <th>IssuedDateLoan</th>\n",
       "      <th>LoanId</th>\n",
       "      <th>InvestorId</th>\n",
       "      <th>LoanApplicationId</th>\n",
       "      <th>ThirdPartyId</th>\n",
       "    </tr>\n",
       "  </thead>\n",
       "  <tbody>\n",
       "    <tr>\n",
       "      <th>0</th>\n",
       "      <td>CustomerId_310</td>\n",
       "      <td>2019-03-31 13:33:05</td>\n",
       "      <td>14000.0</td>\n",
       "      <td>-14000.0</td>\n",
       "      <td>TransactionId_925</td>\n",
       "      <td>BatchId_1144</td>\n",
       "      <td>SubscriptionId_7</td>\n",
       "      <td>UGX</td>\n",
       "      <td>256</td>\n",
       "      <td>ProviderId_1</td>\n",
       "      <td>ProductId_7</td>\n",
       "      <td>airtime</td>\n",
       "      <td>ChannelId_1</td>\n",
       "      <td>1</td>\n",
       "      <td>2019-03-31 13:33:04</td>\n",
       "      <td>LoanId_1027</td>\n",
       "      <td>InvestorId_1</td>\n",
       "      <td>LoanApplicationId_825</td>\n",
       "      <td>ThirdPartyId_1175</td>\n",
       "    </tr>\n",
       "    <tr>\n",
       "      <th>1</th>\n",
       "      <td>CustomerId_243</td>\n",
       "      <td>2019-03-31 15:04:09</td>\n",
       "      <td>1000.0</td>\n",
       "      <td>-1000.0</td>\n",
       "      <td>TransactionId_1080</td>\n",
       "      <td>BatchId_1214</td>\n",
       "      <td>SubscriptionId_7</td>\n",
       "      <td>UGX</td>\n",
       "      <td>256</td>\n",
       "      <td>ProviderId_1</td>\n",
       "      <td>ProductId_8</td>\n",
       "      <td>data_bundles</td>\n",
       "      <td>ChannelId_1</td>\n",
       "      <td>1</td>\n",
       "      <td>2019-03-31 15:04:08</td>\n",
       "      <td>LoanId_768</td>\n",
       "      <td>InvestorId_1</td>\n",
       "      <td>LoanApplicationId_68</td>\n",
       "      <td>ThirdPartyId_604</td>\n",
       "    </tr>\n",
       "    <tr>\n",
       "      <th>2</th>\n",
       "      <td>CustomerId_142</td>\n",
       "      <td>2019-03-31 17:31:11</td>\n",
       "      <td>2500.0</td>\n",
       "      <td>-2500.0</td>\n",
       "      <td>TransactionId_2315</td>\n",
       "      <td>BatchId_2150</td>\n",
       "      <td>SubscriptionId_7</td>\n",
       "      <td>UGX</td>\n",
       "      <td>256</td>\n",
       "      <td>ProviderId_1</td>\n",
       "      <td>ProductId_7</td>\n",
       "      <td>airtime</td>\n",
       "      <td>ChannelId_1</td>\n",
       "      <td>1</td>\n",
       "      <td>2019-03-31 17:31:09</td>\n",
       "      <td>LoanId_1067</td>\n",
       "      <td>InvestorId_1</td>\n",
       "      <td>LoanApplicationId_1223</td>\n",
       "      <td>ThirdPartyId_1521</td>\n",
       "    </tr>\n",
       "    <tr>\n",
       "      <th>3</th>\n",
       "      <td>CustomerId_142</td>\n",
       "      <td>2019-03-31 17:32:15</td>\n",
       "      <td>500.0</td>\n",
       "      <td>-500.0</td>\n",
       "      <td>TransactionId_1466</td>\n",
       "      <td>BatchId_1071</td>\n",
       "      <td>SubscriptionId_7</td>\n",
       "      <td>UGX</td>\n",
       "      <td>256</td>\n",
       "      <td>ProviderId_1</td>\n",
       "      <td>ProductId_7</td>\n",
       "      <td>airtime</td>\n",
       "      <td>ChannelId_1</td>\n",
       "      <td>1</td>\n",
       "      <td>2019-03-31 17:32:14</td>\n",
       "      <td>LoanId_202</td>\n",
       "      <td>InvestorId_1</td>\n",
       "      <td>LoanApplicationId_633</td>\n",
       "      <td>ThirdPartyId_406</td>\n",
       "    </tr>\n",
       "    <tr>\n",
       "      <th>4</th>\n",
       "      <td>CustomerId_142</td>\n",
       "      <td>2019-03-31 17:34:41</td>\n",
       "      <td>1000.0</td>\n",
       "      <td>-1000.0</td>\n",
       "      <td>TransactionId_337</td>\n",
       "      <td>BatchId_2477</td>\n",
       "      <td>SubscriptionId_7</td>\n",
       "      <td>UGX</td>\n",
       "      <td>256</td>\n",
       "      <td>ProviderId_1</td>\n",
       "      <td>ProductId_7</td>\n",
       "      <td>airtime</td>\n",
       "      <td>ChannelId_1</td>\n",
       "      <td>1</td>\n",
       "      <td>2019-03-31 17:34:40</td>\n",
       "      <td>LoanId_533</td>\n",
       "      <td>InvestorId_1</td>\n",
       "      <td>LoanApplicationId_309</td>\n",
       "      <td>ThirdPartyId_302</td>\n",
       "    </tr>\n",
       "  </tbody>\n",
       "</table>\n",
       "</div>"
      ],
      "text/plain": [
       "       CustomerId TransactionStartTime    Value   Amount       TransactionId  \\\n",
       "0  CustomerId_310  2019-03-31 13:33:05  14000.0 -14000.0   TransactionId_925   \n",
       "1  CustomerId_243  2019-03-31 15:04:09   1000.0  -1000.0  TransactionId_1080   \n",
       "2  CustomerId_142  2019-03-31 17:31:11   2500.0  -2500.0  TransactionId_2315   \n",
       "3  CustomerId_142  2019-03-31 17:32:15    500.0   -500.0  TransactionId_1466   \n",
       "4  CustomerId_142  2019-03-31 17:34:41   1000.0  -1000.0   TransactionId_337   \n",
       "\n",
       "        BatchId    SubscriptionId CurrencyCode  CountryCode    ProviderId  \\\n",
       "0  BatchId_1144  SubscriptionId_7          UGX          256  ProviderId_1   \n",
       "1  BatchId_1214  SubscriptionId_7          UGX          256  ProviderId_1   \n",
       "2  BatchId_2150  SubscriptionId_7          UGX          256  ProviderId_1   \n",
       "3  BatchId_1071  SubscriptionId_7          UGX          256  ProviderId_1   \n",
       "4  BatchId_2477  SubscriptionId_7          UGX          256  ProviderId_1   \n",
       "\n",
       "     ProductId ProductCategory    ChannelId  TransactionStatus  \\\n",
       "0  ProductId_7         airtime  ChannelId_1                  1   \n",
       "1  ProductId_8    data_bundles  ChannelId_1                  1   \n",
       "2  ProductId_7         airtime  ChannelId_1                  1   \n",
       "3  ProductId_7         airtime  ChannelId_1                  1   \n",
       "4  ProductId_7         airtime  ChannelId_1                  1   \n",
       "\n",
       "        IssuedDateLoan       LoanId    InvestorId       LoanApplicationId  \\\n",
       "0  2019-03-31 13:33:04  LoanId_1027  InvestorId_1   LoanApplicationId_825   \n",
       "1  2019-03-31 15:04:08   LoanId_768  InvestorId_1    LoanApplicationId_68   \n",
       "2  2019-03-31 17:31:09  LoanId_1067  InvestorId_1  LoanApplicationId_1223   \n",
       "3  2019-03-31 17:32:14   LoanId_202  InvestorId_1   LoanApplicationId_633   \n",
       "4  2019-03-31 17:34:40   LoanId_533  InvestorId_1   LoanApplicationId_309   \n",
       "\n",
       "        ThirdPartyId  \n",
       "0  ThirdPartyId_1175  \n",
       "1   ThirdPartyId_604  \n",
       "2  ThirdPartyId_1521  \n",
       "3   ThirdPartyId_406  \n",
       "4   ThirdPartyId_302  "
      ]
     },
     "execution_count": 179,
     "metadata": {},
     "output_type": "execute_result"
    }
   ],
   "source": [
    "test.head()"
   ]
  },
  {
   "cell_type": "code",
   "execution_count": 180,
   "metadata": {},
   "outputs": [
    {
     "data": {
      "text/html": [
       "<div>\n",
       "<style scoped>\n",
       "    .dataframe tbody tr th:only-of-type {\n",
       "        vertical-align: middle;\n",
       "    }\n",
       "\n",
       "    .dataframe tbody tr th {\n",
       "        vertical-align: top;\n",
       "    }\n",
       "\n",
       "    .dataframe thead th {\n",
       "        text-align: right;\n",
       "    }\n",
       "</style>\n",
       "<table border=\"1\" class=\"dataframe\">\n",
       "  <thead>\n",
       "    <tr style=\"text-align: right;\">\n",
       "      <th></th>\n",
       "      <th>TransactionId</th>\n",
       "      <th>IsDefaulted</th>\n",
       "    </tr>\n",
       "  </thead>\n",
       "  <tbody>\n",
       "    <tr>\n",
       "      <th>0</th>\n",
       "      <td>TransactionId_925</td>\n",
       "      <td>0.0</td>\n",
       "    </tr>\n",
       "    <tr>\n",
       "      <th>1</th>\n",
       "      <td>TransactionId_1080</td>\n",
       "      <td>1.0</td>\n",
       "    </tr>\n",
       "    <tr>\n",
       "      <th>2</th>\n",
       "      <td>TransactionId_2315</td>\n",
       "      <td>0.0</td>\n",
       "    </tr>\n",
       "    <tr>\n",
       "      <th>3</th>\n",
       "      <td>TransactionId_1466</td>\n",
       "      <td>0.0</td>\n",
       "    </tr>\n",
       "    <tr>\n",
       "      <th>4</th>\n",
       "      <td>TransactionId_337</td>\n",
       "      <td>1.0</td>\n",
       "    </tr>\n",
       "  </tbody>\n",
       "</table>\n",
       "</div>"
      ],
      "text/plain": [
       "        TransactionId  IsDefaulted\n",
       "0   TransactionId_925          0.0\n",
       "1  TransactionId_1080          1.0\n",
       "2  TransactionId_2315          0.0\n",
       "3  TransactionId_1466          0.0\n",
       "4   TransactionId_337          1.0"
      ]
     },
     "execution_count": 180,
     "metadata": {},
     "output_type": "execute_result"
    }
   ],
   "source": [
    "sample.head()"
   ]
  },
  {
   "cell_type": "code",
   "execution_count": 181,
   "metadata": {},
   "outputs": [
    {
     "name": "stdout",
     "output_type": "stream",
     "text": [
      "<class 'pandas.core.frame.DataFrame'>\n",
      "RangeIndex: 2100 entries, 0 to 2099\n",
      "Data columns (total 27 columns):\n",
      "CustomerId               2100 non-null object\n",
      "TransactionStartTime     2100 non-null object\n",
      "Value                    2100 non-null float64\n",
      "Amount                   2100 non-null float64\n",
      "TransactionId            2100 non-null object\n",
      "BatchId                  2100 non-null object\n",
      "SubscriptionId           2100 non-null object\n",
      "CurrencyCode             2100 non-null object\n",
      "CountryCode              2100 non-null int64\n",
      "ProviderId               2100 non-null object\n",
      "ProductId                2100 non-null object\n",
      "ProductCategory          2100 non-null object\n",
      "ChannelId                2100 non-null object\n",
      "TransactionStatus        2100 non-null int64\n",
      "IssuedDateLoan           1488 non-null object\n",
      "AmountLoan               1488 non-null float64\n",
      "Currency                 1488 non-null object\n",
      "LoanId                   1488 non-null object\n",
      "PaidOnDate               1488 non-null object\n",
      "IsFinalPayBack           1488 non-null float64\n",
      "InvestorId               1488 non-null object\n",
      "DueDate                  1486 non-null object\n",
      "LoanApplicationId        1483 non-null object\n",
      "PayBackId                1488 non-null object\n",
      "ThirdPartyId             1486 non-null object\n",
      "IsThirdPartyConfirmed    1488 non-null float64\n",
      "IsDefaulted              1488 non-null float64\n",
      "dtypes: float64(6), int64(2), object(19)\n",
      "memory usage: 443.0+ KB\n"
     ]
    }
   ],
   "source": [
    "train.info()"
   ]
  },
  {
   "cell_type": "markdown",
   "metadata": {},
   "source": [
    "## 2. Exploratory Data Analysis"
   ]
  },
  {
   "cell_type": "code",
   "execution_count": 182,
   "metadata": {},
   "outputs": [],
   "source": [
    "categorical_feat = DataProcess.Categorical(train)\n",
    "numerical_feat = DataProcess.Numerical(train)"
   ]
  },
  {
   "cell_type": "code",
   "execution_count": 183,
   "metadata": {},
   "outputs": [
    {
     "data": {
      "image/png": "[encoded data removed]",
      "text/plain": [
       "<Figure size 720x432 with 1 Axes>"
      ]
     },
     "metadata": {},
     "output_type": "display_data"
    }
   ],
   "source": [
    "DataProcess.Missing(categorical_feat);"
   ]
  },
  {
   "cell_type": "code",
   "execution_count": 184,
   "metadata": {},
   "outputs": [
    {
     "data": {
      "image/png": "[encoded data removed]",
      "text/plain": [
       "<Figure size 720x432 with 1 Axes>"
      ]
     },
     "metadata": {},
     "output_type": "display_data"
    }
   ],
   "source": [
    "DataProcess.Missing(numerical_feat);"
   ]
  },
  {
   "cell_type": "code",
   "execution_count": 185,
   "metadata": {},
   "outputs": [],
   "source": [
    "new_df = train.dropna()"
   ]
  },
  {
   "cell_type": "code",
   "execution_count": 186,
   "metadata": {},
   "outputs": [
    {
     "data": {
      "image/png": "[encoded data removed]",
      "text/plain": [
       "<Figure size 720x432 with 1 Axes>"
      ]
     },
     "metadata": {},
     "output_type": "display_data"
    }
   ],
   "source": [
    "DataProcess.Missing(new_df);"
   ]
  },
  {
   "cell_type": "code",
   "execution_count": 189,
   "metadata": {},
   "outputs": [
    {
     "data": {
      "text/plain": [
       "Index(['CustomerId', 'TransactionStartTime', 'Value', 'Amount',\n",
       "       'TransactionId', 'BatchId', 'SubscriptionId', 'CurrencyCode',\n",
       "       'CountryCode', 'ProviderId', 'ProductId', 'ProductCategory',\n",
       "       'ChannelId', 'TransactionStatus', 'IssuedDateLoan', 'AmountLoan',\n",
       "       'Currency', 'LoanId', 'PaidOnDate', 'IsFinalPayBack', 'InvestorId',\n",
       "       'DueDate', 'LoanApplicationId', 'PayBackId', 'ThirdPartyId',\n",
       "       'IsThirdPartyConfirmed', 'IsDefaulted'],\n",
       "      dtype='object')"
      ]
     },
     "execution_count": 189,
     "metadata": {},
     "output_type": "execute_result"
    }
   ],
   "source": [
    "new_df.columns"
   ]
  },
  {
   "cell_type": "code",
   "execution_count": 190,
   "metadata": {},
   "outputs": [
    {
     "data": {
      "text/plain": [
       "1.0    1080\n",
       "0.0     399\n",
       "Name: IsFinalPayBack, dtype: int64"
      ]
     },
     "execution_count": 190,
     "metadata": {},
     "output_type": "execute_result"
    }
   ],
   "source": [
    "new_df.IsFinalPayBack.value_counts()"
   ]
  },
  {
   "cell_type": "code",
   "execution_count": 191,
   "metadata": {},
   "outputs": [
    {
     "data": {
      "text/plain": [
       "airtime               920\n",
       "retail                235\n",
       "data_bundles          177\n",
       "utility_bill           86\n",
       "tv                     53\n",
       "movies                  5\n",
       "financial_services      3\n",
       "Name: ProductCategory, dtype: int64"
      ]
     },
     "execution_count": 191,
     "metadata": {},
     "output_type": "execute_result"
    }
   ],
   "source": [
    "new_df.ProductCategory.value_counts()"
   ]
  },
  {
   "cell_type": "code",
   "execution_count": 192,
   "metadata": {},
   "outputs": [
    {
     "data": {
      "text/plain": [
       "1.0    1458\n",
       "0.0      21\n",
       "Name: IsThirdPartyConfirmed, dtype: int64"
      ]
     },
     "execution_count": 192,
     "metadata": {},
     "output_type": "execute_result"
    }
   ],
   "source": [
    "new_df.IsThirdPartyConfirmed.value_counts()"
   ]
  },
  {
   "cell_type": "markdown",
   "metadata": {},
   "source": [
    "# 3. Feature Selection "
   ]
  },
  {
   "cell_type": "code",
   "execution_count": 193,
   "metadata": {},
   "outputs": [
    {
     "data": {
      "text/html": [
       "<div>\n",
       "<style scoped>\n",
       "    .dataframe tbody tr th:only-of-type {\n",
       "        vertical-align: middle;\n",
       "    }\n",
       "\n",
       "    .dataframe tbody tr th {\n",
       "        vertical-align: top;\n",
       "    }\n",
       "\n",
       "    .dataframe thead th {\n",
       "        text-align: right;\n",
       "    }\n",
       "</style>\n",
       "<table border=\"1\" class=\"dataframe\">\n",
       "  <thead>\n",
       "    <tr style=\"text-align: right;\">\n",
       "      <th></th>\n",
       "      <th>TransactionStartTime</th>\n",
       "      <th>DueDate</th>\n",
       "      <th>Value</th>\n",
       "      <th>IsThirdPartyConfirmed</th>\n",
       "      <th>IsDefaulted</th>\n",
       "    </tr>\n",
       "  </thead>\n",
       "  <tbody>\n",
       "    <tr>\n",
       "      <th>15</th>\n",
       "      <td>2018-10-22 16:04:25</td>\n",
       "      <td>2018-11-21 16:03:32</td>\n",
       "      <td>5000.0</td>\n",
       "      <td>0.0</td>\n",
       "      <td>0.0</td>\n",
       "    </tr>\n",
       "    <tr>\n",
       "      <th>17</th>\n",
       "      <td>2018-10-23 13:12:23</td>\n",
       "      <td>2018-11-22 13:12:16</td>\n",
       "      <td>500.0</td>\n",
       "      <td>0.0</td>\n",
       "      <td>0.0</td>\n",
       "    </tr>\n",
       "    <tr>\n",
       "      <th>18</th>\n",
       "      <td>2018-10-23 15:20:58</td>\n",
       "      <td>2018-11-22 15:20:53</td>\n",
       "      <td>1000.0</td>\n",
       "      <td>0.0</td>\n",
       "      <td>0.0</td>\n",
       "    </tr>\n",
       "    <tr>\n",
       "      <th>19</th>\n",
       "      <td>2018-10-23 15:31:27</td>\n",
       "      <td>2018-11-23 06:33:57</td>\n",
       "      <td>500.0</td>\n",
       "      <td>0.0</td>\n",
       "      <td>0.0</td>\n",
       "    </tr>\n",
       "    <tr>\n",
       "      <th>20</th>\n",
       "      <td>2018-10-24 06:56:02</td>\n",
       "      <td>2018-11-23 06:55:58</td>\n",
       "      <td>500.0</td>\n",
       "      <td>0.0</td>\n",
       "      <td>0.0</td>\n",
       "    </tr>\n",
       "  </tbody>\n",
       "</table>\n",
       "</div>"
      ],
      "text/plain": [
       "   TransactionStartTime              DueDate   Value  IsThirdPartyConfirmed  \\\n",
       "15  2018-10-22 16:04:25  2018-11-21 16:03:32  5000.0                    0.0   \n",
       "17  2018-10-23 13:12:23  2018-11-22 13:12:16   500.0                    0.0   \n",
       "18  2018-10-23 15:20:58  2018-11-22 15:20:53  1000.0                    0.0   \n",
       "19  2018-10-23 15:31:27  2018-11-23 06:33:57   500.0                    0.0   \n",
       "20  2018-10-24 06:56:02  2018-11-23 06:55:58   500.0                    0.0   \n",
       "\n",
       "    IsDefaulted  \n",
       "15          0.0  \n",
       "17          0.0  \n",
       "18          0.0  \n",
       "19          0.0  \n",
       "20          0.0  "
      ]
     },
     "execution_count": 193,
     "metadata": {},
     "output_type": "execute_result"
    }
   ],
   "source": [
    "train_df = new_df[['TransactionStartTime', 'DueDate', 'Value', 'IsThirdPartyConfirmed', 'IsDefaulted' ]]\n",
    "train_df.head()"
   ]
  },
  {
   "cell_type": "code",
   "execution_count": 194,
   "metadata": {},
   "outputs": [
    {
     "data": {
      "text/plain": [
       "TransactionStartTime      object\n",
       "DueDate                   object\n",
       "Value                    float64\n",
       "IsThirdPartyConfirmed    float64\n",
       "IsDefaulted              float64\n",
       "dtype: object"
      ]
     },
     "execution_count": 194,
     "metadata": {},
     "output_type": "execute_result"
    }
   ],
   "source": [
    "train_df.dtypes"
   ]
  },
  {
   "cell_type": "code",
   "execution_count": 195,
   "metadata": {},
   "outputs": [],
   "source": [
    "train_df['TransactionStartTime'] = pd.to_datetime(train_df['TransactionStartTime'])\n",
    "train_df['DueDate'] = pd.to_datetime(train_df['DueDate'])"
   ]
  },
  {
   "cell_type": "code",
   "execution_count": 196,
   "metadata": {},
   "outputs": [
    {
     "data": {
      "text/plain": [
       "TransactionStartTime     datetime64[ns]\n",
       "DueDate                  datetime64[ns]\n",
       "Value                           float64\n",
       "IsThirdPartyConfirmed           float64\n",
       "IsDefaulted                     float64\n",
       "dtype: object"
      ]
     },
     "execution_count": 196,
     "metadata": {},
     "output_type": "execute_result"
    }
   ],
   "source": [
    "train_df.dtypes"
   ]
  },
  {
   "cell_type": "code",
   "execution_count": 197,
   "metadata": {},
   "outputs": [
    {
     "data": {
      "text/html": [
       "<div>\n",
       "<style scoped>\n",
       "    .dataframe tbody tr th:only-of-type {\n",
       "        vertical-align: middle;\n",
       "    }\n",
       "\n",
       "    .dataframe tbody tr th {\n",
       "        vertical-align: top;\n",
       "    }\n",
       "\n",
       "    .dataframe thead th {\n",
       "        text-align: right;\n",
       "    }\n",
       "</style>\n",
       "<table border=\"1\" class=\"dataframe\">\n",
       "  <thead>\n",
       "    <tr style=\"text-align: right;\">\n",
       "      <th></th>\n",
       "      <th>TransactionStartTime</th>\n",
       "      <th>DueDate</th>\n",
       "      <th>Value</th>\n",
       "      <th>IsThirdPartyConfirmed</th>\n",
       "      <th>IsDefaulted</th>\n",
       "    </tr>\n",
       "  </thead>\n",
       "  <tbody>\n",
       "    <tr>\n",
       "      <th>15</th>\n",
       "      <td>2018-10-22 16:04:25</td>\n",
       "      <td>2018-11-21 16:03:32</td>\n",
       "      <td>5000.0</td>\n",
       "      <td>0.0</td>\n",
       "      <td>0.0</td>\n",
       "    </tr>\n",
       "    <tr>\n",
       "      <th>17</th>\n",
       "      <td>2018-10-23 13:12:23</td>\n",
       "      <td>2018-11-22 13:12:16</td>\n",
       "      <td>500.0</td>\n",
       "      <td>0.0</td>\n",
       "      <td>0.0</td>\n",
       "    </tr>\n",
       "    <tr>\n",
       "      <th>18</th>\n",
       "      <td>2018-10-23 15:20:58</td>\n",
       "      <td>2018-11-22 15:20:53</td>\n",
       "      <td>1000.0</td>\n",
       "      <td>0.0</td>\n",
       "      <td>0.0</td>\n",
       "    </tr>\n",
       "    <tr>\n",
       "      <th>19</th>\n",
       "      <td>2018-10-23 15:31:27</td>\n",
       "      <td>2018-11-23 06:33:57</td>\n",
       "      <td>500.0</td>\n",
       "      <td>0.0</td>\n",
       "      <td>0.0</td>\n",
       "    </tr>\n",
       "    <tr>\n",
       "      <th>20</th>\n",
       "      <td>2018-10-24 06:56:02</td>\n",
       "      <td>2018-11-23 06:55:58</td>\n",
       "      <td>500.0</td>\n",
       "      <td>0.0</td>\n",
       "      <td>0.0</td>\n",
       "    </tr>\n",
       "  </tbody>\n",
       "</table>\n",
       "</div>"
      ],
      "text/plain": [
       "   TransactionStartTime             DueDate   Value  IsThirdPartyConfirmed  \\\n",
       "15  2018-10-22 16:04:25 2018-11-21 16:03:32  5000.0                    0.0   \n",
       "17  2018-10-23 13:12:23 2018-11-22 13:12:16   500.0                    0.0   \n",
       "18  2018-10-23 15:20:58 2018-11-22 15:20:53  1000.0                    0.0   \n",
       "19  2018-10-23 15:31:27 2018-11-23 06:33:57   500.0                    0.0   \n",
       "20  2018-10-24 06:56:02 2018-11-23 06:55:58   500.0                    0.0   \n",
       "\n",
       "    IsDefaulted  \n",
       "15          0.0  \n",
       "17          0.0  \n",
       "18          0.0  \n",
       "19          0.0  \n",
       "20          0.0  "
      ]
     },
     "execution_count": 197,
     "metadata": {},
     "output_type": "execute_result"
    }
   ],
   "source": [
    "train_df.head()"
   ]
  },
  {
   "cell_type": "code",
   "execution_count": 198,
   "metadata": {},
   "outputs": [],
   "source": [
    "# Extract the start dates\n",
    "train_df['start_month'] = train_df['TransactionStartTime'].apply(DataProcess.get_month)\n",
    "train_df['start_year'] = train_df['TransactionStartTime'].apply(DataProcess.get_year)\n",
    "train_df['start_day'] = train_df['TransactionStartTime'].apply(DataProcess.get_day)\n",
    "\n",
    "# Extract the due dates\n",
    "train_df['due_month'] = train_df['DueDate'].apply(DataProcess.get_month)\n",
    "train_df['due_year'] = train_df['DueDate'].apply(DataProcess.get_year)\n",
    "train_df['due_day'] = train_df['DueDate'].apply(DataProcess.get_day)"
   ]
  },
  {
   "cell_type": "code",
   "execution_count": 199,
   "metadata": {},
   "outputs": [
    {
     "data": {
      "text/html": [
       "<div>\n",
       "<style scoped>\n",
       "    .dataframe tbody tr th:only-of-type {\n",
       "        vertical-align: middle;\n",
       "    }\n",
       "\n",
       "    .dataframe tbody tr th {\n",
       "        vertical-align: top;\n",
       "    }\n",
       "\n",
       "    .dataframe thead th {\n",
       "        text-align: right;\n",
       "    }\n",
       "</style>\n",
       "<table border=\"1\" class=\"dataframe\">\n",
       "  <thead>\n",
       "    <tr style=\"text-align: right;\">\n",
       "      <th></th>\n",
       "      <th>TransactionStartTime</th>\n",
       "      <th>DueDate</th>\n",
       "      <th>Value</th>\n",
       "      <th>IsThirdPartyConfirmed</th>\n",
       "      <th>IsDefaulted</th>\n",
       "      <th>start_month</th>\n",
       "      <th>start_year</th>\n",
       "      <th>start_day</th>\n",
       "      <th>due_month</th>\n",
       "      <th>due_year</th>\n",
       "      <th>due_day</th>\n",
       "    </tr>\n",
       "  </thead>\n",
       "  <tbody>\n",
       "    <tr>\n",
       "      <th>15</th>\n",
       "      <td>2018-10-22 16:04:25</td>\n",
       "      <td>2018-11-21 16:03:32</td>\n",
       "      <td>5000.0</td>\n",
       "      <td>0.0</td>\n",
       "      <td>0.0</td>\n",
       "      <td>10</td>\n",
       "      <td>2018</td>\n",
       "      <td>22</td>\n",
       "      <td>11</td>\n",
       "      <td>2018</td>\n",
       "      <td>21</td>\n",
       "    </tr>\n",
       "    <tr>\n",
       "      <th>17</th>\n",
       "      <td>2018-10-23 13:12:23</td>\n",
       "      <td>2018-11-22 13:12:16</td>\n",
       "      <td>500.0</td>\n",
       "      <td>0.0</td>\n",
       "      <td>0.0</td>\n",
       "      <td>10</td>\n",
       "      <td>2018</td>\n",
       "      <td>23</td>\n",
       "      <td>11</td>\n",
       "      <td>2018</td>\n",
       "      <td>22</td>\n",
       "    </tr>\n",
       "    <tr>\n",
       "      <th>18</th>\n",
       "      <td>2018-10-23 15:20:58</td>\n",
       "      <td>2018-11-22 15:20:53</td>\n",
       "      <td>1000.0</td>\n",
       "      <td>0.0</td>\n",
       "      <td>0.0</td>\n",
       "      <td>10</td>\n",
       "      <td>2018</td>\n",
       "      <td>23</td>\n",
       "      <td>11</td>\n",
       "      <td>2018</td>\n",
       "      <td>22</td>\n",
       "    </tr>\n",
       "    <tr>\n",
       "      <th>19</th>\n",
       "      <td>2018-10-23 15:31:27</td>\n",
       "      <td>2018-11-23 06:33:57</td>\n",
       "      <td>500.0</td>\n",
       "      <td>0.0</td>\n",
       "      <td>0.0</td>\n",
       "      <td>10</td>\n",
       "      <td>2018</td>\n",
       "      <td>23</td>\n",
       "      <td>11</td>\n",
       "      <td>2018</td>\n",
       "      <td>23</td>\n",
       "    </tr>\n",
       "    <tr>\n",
       "      <th>20</th>\n",
       "      <td>2018-10-24 06:56:02</td>\n",
       "      <td>2018-11-23 06:55:58</td>\n",
       "      <td>500.0</td>\n",
       "      <td>0.0</td>\n",
       "      <td>0.0</td>\n",
       "      <td>10</td>\n",
       "      <td>2018</td>\n",
       "      <td>24</td>\n",
       "      <td>11</td>\n",
       "      <td>2018</td>\n",
       "      <td>23</td>\n",
       "    </tr>\n",
       "  </tbody>\n",
       "</table>\n",
       "</div>"
      ],
      "text/plain": [
       "   TransactionStartTime             DueDate   Value  IsThirdPartyConfirmed  \\\n",
       "15  2018-10-22 16:04:25 2018-11-21 16:03:32  5000.0                    0.0   \n",
       "17  2018-10-23 13:12:23 2018-11-22 13:12:16   500.0                    0.0   \n",
       "18  2018-10-23 15:20:58 2018-11-22 15:20:53  1000.0                    0.0   \n",
       "19  2018-10-23 15:31:27 2018-11-23 06:33:57   500.0                    0.0   \n",
       "20  2018-10-24 06:56:02 2018-11-23 06:55:58   500.0                    0.0   \n",
       "\n",
       "    IsDefaulted  start_month  start_year  start_day  due_month  due_year  \\\n",
       "15          0.0           10        2018         22         11      2018   \n",
       "17          0.0           10        2018         23         11      2018   \n",
       "18          0.0           10        2018         23         11      2018   \n",
       "19          0.0           10        2018         23         11      2018   \n",
       "20          0.0           10        2018         24         11      2018   \n",
       "\n",
       "    due_day  \n",
       "15       21  \n",
       "17       22  \n",
       "18       22  \n",
       "19       23  \n",
       "20       23  "
      ]
     },
     "execution_count": 199,
     "metadata": {},
     "output_type": "execute_result"
    }
   ],
   "source": [
    "train_df.head()"
   ]
  },
  {
   "cell_type": "code",
   "execution_count": 200,
   "metadata": {},
   "outputs": [
    {
     "data": {
      "text/html": [
       "<div>\n",
       "<style scoped>\n",
       "    .dataframe tbody tr th:only-of-type {\n",
       "        vertical-align: middle;\n",
       "    }\n",
       "\n",
       "    .dataframe tbody tr th {\n",
       "        vertical-align: top;\n",
       "    }\n",
       "\n",
       "    .dataframe thead th {\n",
       "        text-align: right;\n",
       "    }\n",
       "</style>\n",
       "<table border=\"1\" class=\"dataframe\">\n",
       "  <thead>\n",
       "    <tr style=\"text-align: right;\">\n",
       "      <th></th>\n",
       "      <th>Value</th>\n",
       "      <th>IsThirdPartyConfirmed</th>\n",
       "      <th>IsDefaulted</th>\n",
       "      <th>start_month</th>\n",
       "      <th>start_year</th>\n",
       "      <th>start_day</th>\n",
       "      <th>due_month</th>\n",
       "      <th>due_year</th>\n",
       "      <th>due_day</th>\n",
       "    </tr>\n",
       "  </thead>\n",
       "  <tbody>\n",
       "    <tr>\n",
       "      <th>15</th>\n",
       "      <td>5000.0</td>\n",
       "      <td>0.0</td>\n",
       "      <td>0.0</td>\n",
       "      <td>10</td>\n",
       "      <td>2018</td>\n",
       "      <td>22</td>\n",
       "      <td>11</td>\n",
       "      <td>2018</td>\n",
       "      <td>21</td>\n",
       "    </tr>\n",
       "    <tr>\n",
       "      <th>17</th>\n",
       "      <td>500.0</td>\n",
       "      <td>0.0</td>\n",
       "      <td>0.0</td>\n",
       "      <td>10</td>\n",
       "      <td>2018</td>\n",
       "      <td>23</td>\n",
       "      <td>11</td>\n",
       "      <td>2018</td>\n",
       "      <td>22</td>\n",
       "    </tr>\n",
       "    <tr>\n",
       "      <th>18</th>\n",
       "      <td>1000.0</td>\n",
       "      <td>0.0</td>\n",
       "      <td>0.0</td>\n",
       "      <td>10</td>\n",
       "      <td>2018</td>\n",
       "      <td>23</td>\n",
       "      <td>11</td>\n",
       "      <td>2018</td>\n",
       "      <td>22</td>\n",
       "    </tr>\n",
       "    <tr>\n",
       "      <th>19</th>\n",
       "      <td>500.0</td>\n",
       "      <td>0.0</td>\n",
       "      <td>0.0</td>\n",
       "      <td>10</td>\n",
       "      <td>2018</td>\n",
       "      <td>23</td>\n",
       "      <td>11</td>\n",
       "      <td>2018</td>\n",
       "      <td>23</td>\n",
       "    </tr>\n",
       "    <tr>\n",
       "      <th>20</th>\n",
       "      <td>500.0</td>\n",
       "      <td>0.0</td>\n",
       "      <td>0.0</td>\n",
       "      <td>10</td>\n",
       "      <td>2018</td>\n",
       "      <td>24</td>\n",
       "      <td>11</td>\n",
       "      <td>2018</td>\n",
       "      <td>23</td>\n",
       "    </tr>\n",
       "  </tbody>\n",
       "</table>\n",
       "</div>"
      ],
      "text/plain": [
       "     Value  IsThirdPartyConfirmed  IsDefaulted  start_month  start_year  \\\n",
       "15  5000.0                    0.0          0.0           10        2018   \n",
       "17   500.0                    0.0          0.0           10        2018   \n",
       "18  1000.0                    0.0          0.0           10        2018   \n",
       "19   500.0                    0.0          0.0           10        2018   \n",
       "20   500.0                    0.0          0.0           10        2018   \n",
       "\n",
       "    start_day  due_month  due_year  due_day  \n",
       "15         22         11      2018       21  \n",
       "17         23         11      2018       22  \n",
       "18         23         11      2018       22  \n",
       "19         23         11      2018       23  \n",
       "20         24         11      2018       23  "
      ]
     },
     "execution_count": 200,
     "metadata": {},
     "output_type": "execute_result"
    }
   ],
   "source": [
    "train_df = train_df.drop(['TransactionStartTime', 'DueDate'], axis=1)\n",
    "train_df.head()"
   ]
  },
  {
   "cell_type": "code",
   "execution_count": 201,
   "metadata": {},
   "outputs": [
    {
     "data": {
      "text/html": [
       "<div>\n",
       "<style scoped>\n",
       "    .dataframe tbody tr th:only-of-type {\n",
       "        vertical-align: middle;\n",
       "    }\n",
       "\n",
       "    .dataframe tbody tr th {\n",
       "        vertical-align: top;\n",
       "    }\n",
       "\n",
       "    .dataframe thead th {\n",
       "        text-align: right;\n",
       "    }\n",
       "</style>\n",
       "<table border=\"1\" class=\"dataframe\">\n",
       "  <thead>\n",
       "    <tr style=\"text-align: right;\">\n",
       "      <th></th>\n",
       "      <th>Value</th>\n",
       "      <th>IsThirdPartyConfirmed</th>\n",
       "      <th>IsDefaulted</th>\n",
       "      <th>start_month</th>\n",
       "      <th>start_year</th>\n",
       "      <th>start_day</th>\n",
       "      <th>due_month</th>\n",
       "      <th>due_year</th>\n",
       "      <th>due_day</th>\n",
       "    </tr>\n",
       "  </thead>\n",
       "  <tbody>\n",
       "    <tr>\n",
       "      <th>count</th>\n",
       "      <td>1.479000e+03</td>\n",
       "      <td>1479.000000</td>\n",
       "      <td>1479.000000</td>\n",
       "      <td>1479.000000</td>\n",
       "      <td>1479.000000</td>\n",
       "      <td>1479.000000</td>\n",
       "      <td>1479.000000</td>\n",
       "      <td>1479.000000</td>\n",
       "      <td>1479.000000</td>\n",
       "    </tr>\n",
       "    <tr>\n",
       "      <th>mean</th>\n",
       "      <td>5.214636e+04</td>\n",
       "      <td>0.985801</td>\n",
       "      <td>0.118999</td>\n",
       "      <td>4.720757</td>\n",
       "      <td>2018.720757</td>\n",
       "      <td>15.992563</td>\n",
       "      <td>3.595673</td>\n",
       "      <td>2018.898580</td>\n",
       "      <td>15.810683</td>\n",
       "    </tr>\n",
       "    <tr>\n",
       "      <th>std</th>\n",
       "      <td>1.674981e+05</td>\n",
       "      <td>0.118350</td>\n",
       "      <td>0.323897</td>\n",
       "      <td>4.352349</td>\n",
       "      <td>0.448779</td>\n",
       "      <td>8.868492</td>\n",
       "      <td>2.972610</td>\n",
       "      <td>0.301986</td>\n",
       "      <td>9.048994</td>\n",
       "    </tr>\n",
       "    <tr>\n",
       "      <th>min</th>\n",
       "      <td>1.000000e+02</td>\n",
       "      <td>0.000000</td>\n",
       "      <td>0.000000</td>\n",
       "      <td>1.000000</td>\n",
       "      <td>2018.000000</td>\n",
       "      <td>1.000000</td>\n",
       "      <td>1.000000</td>\n",
       "      <td>2018.000000</td>\n",
       "      <td>1.000000</td>\n",
       "    </tr>\n",
       "    <tr>\n",
       "      <th>25%</th>\n",
       "      <td>1.000000e+03</td>\n",
       "      <td>1.000000</td>\n",
       "      <td>0.000000</td>\n",
       "      <td>2.000000</td>\n",
       "      <td>2018.000000</td>\n",
       "      <td>7.000000</td>\n",
       "      <td>2.000000</td>\n",
       "      <td>2019.000000</td>\n",
       "      <td>7.000000</td>\n",
       "    </tr>\n",
       "    <tr>\n",
       "      <th>50%</th>\n",
       "      <td>4.720000e+03</td>\n",
       "      <td>1.000000</td>\n",
       "      <td>0.000000</td>\n",
       "      <td>3.000000</td>\n",
       "      <td>2019.000000</td>\n",
       "      <td>16.000000</td>\n",
       "      <td>3.000000</td>\n",
       "      <td>2019.000000</td>\n",
       "      <td>16.000000</td>\n",
       "    </tr>\n",
       "    <tr>\n",
       "      <th>75%</th>\n",
       "      <td>1.200000e+04</td>\n",
       "      <td>1.000000</td>\n",
       "      <td>0.000000</td>\n",
       "      <td>11.000000</td>\n",
       "      <td>2019.000000</td>\n",
       "      <td>24.000000</td>\n",
       "      <td>4.000000</td>\n",
       "      <td>2019.000000</td>\n",
       "      <td>24.000000</td>\n",
       "    </tr>\n",
       "    <tr>\n",
       "      <th>max</th>\n",
       "      <td>2.500000e+06</td>\n",
       "      <td>1.000000</td>\n",
       "      <td>1.000000</td>\n",
       "      <td>12.000000</td>\n",
       "      <td>2019.000000</td>\n",
       "      <td>31.000000</td>\n",
       "      <td>12.000000</td>\n",
       "      <td>2019.000000</td>\n",
       "      <td>31.000000</td>\n",
       "    </tr>\n",
       "  </tbody>\n",
       "</table>\n",
       "</div>"
      ],
      "text/plain": [
       "              Value  IsThirdPartyConfirmed  IsDefaulted  start_month  \\\n",
       "count  1.479000e+03            1479.000000  1479.000000  1479.000000   \n",
       "mean   5.214636e+04               0.985801     0.118999     4.720757   \n",
       "std    1.674981e+05               0.118350     0.323897     4.352349   \n",
       "min    1.000000e+02               0.000000     0.000000     1.000000   \n",
       "25%    1.000000e+03               1.000000     0.000000     2.000000   \n",
       "50%    4.720000e+03               1.000000     0.000000     3.000000   \n",
       "75%    1.200000e+04               1.000000     0.000000    11.000000   \n",
       "max    2.500000e+06               1.000000     1.000000    12.000000   \n",
       "\n",
       "        start_year    start_day    due_month     due_year      due_day  \n",
       "count  1479.000000  1479.000000  1479.000000  1479.000000  1479.000000  \n",
       "mean   2018.720757    15.992563     3.595673  2018.898580    15.810683  \n",
       "std       0.448779     8.868492     2.972610     0.301986     9.048994  \n",
       "min    2018.000000     1.000000     1.000000  2018.000000     1.000000  \n",
       "25%    2018.000000     7.000000     2.000000  2019.000000     7.000000  \n",
       "50%    2019.000000    16.000000     3.000000  2019.000000    16.000000  \n",
       "75%    2019.000000    24.000000     4.000000  2019.000000    24.000000  \n",
       "max    2019.000000    31.000000    12.000000  2019.000000    31.000000  "
      ]
     },
     "execution_count": 201,
     "metadata": {},
     "output_type": "execute_result"
    }
   ],
   "source": [
    "train_df.describe()"
   ]
  },
  {
   "cell_type": "code",
   "execution_count": 202,
   "metadata": {},
   "outputs": [],
   "source": [
    "train_df['Value'] = train_df['Value']/5000\n",
    "train_df['start_month'] = train_df['start_month']\n",
    "train_df['start_year'] = train_df['start_year']/100\n",
    "train_df['start_day'] = train_df['start_day']/10\n",
    "\n",
    "train_df['due_year'] = train_df['due_year']/100\n",
    "train_df['due_month'] = train_df['due_month']\n",
    "train_df['due_day'] = train_df['due_day']/10"
   ]
  },
  {
   "cell_type": "code",
   "execution_count": 203,
   "metadata": {},
   "outputs": [
    {
     "data": {
      "text/html": [
       "<div>\n",
       "<style scoped>\n",
       "    .dataframe tbody tr th:only-of-type {\n",
       "        vertical-align: middle;\n",
       "    }\n",
       "\n",
       "    .dataframe tbody tr th {\n",
       "        vertical-align: top;\n",
       "    }\n",
       "\n",
       "    .dataframe thead th {\n",
       "        text-align: right;\n",
       "    }\n",
       "</style>\n",
       "<table border=\"1\" class=\"dataframe\">\n",
       "  <thead>\n",
       "    <tr style=\"text-align: right;\">\n",
       "      <th></th>\n",
       "      <th>Value</th>\n",
       "      <th>IsThirdPartyConfirmed</th>\n",
       "      <th>IsDefaulted</th>\n",
       "      <th>start_month</th>\n",
       "      <th>start_year</th>\n",
       "      <th>start_day</th>\n",
       "      <th>due_month</th>\n",
       "      <th>due_year</th>\n",
       "      <th>due_day</th>\n",
       "    </tr>\n",
       "  </thead>\n",
       "  <tbody>\n",
       "    <tr>\n",
       "      <th>15</th>\n",
       "      <td>1.0</td>\n",
       "      <td>0.0</td>\n",
       "      <td>0.0</td>\n",
       "      <td>10</td>\n",
       "      <td>20.18</td>\n",
       "      <td>2.2</td>\n",
       "      <td>11</td>\n",
       "      <td>20.18</td>\n",
       "      <td>2.1</td>\n",
       "    </tr>\n",
       "    <tr>\n",
       "      <th>17</th>\n",
       "      <td>0.1</td>\n",
       "      <td>0.0</td>\n",
       "      <td>0.0</td>\n",
       "      <td>10</td>\n",
       "      <td>20.18</td>\n",
       "      <td>2.3</td>\n",
       "      <td>11</td>\n",
       "      <td>20.18</td>\n",
       "      <td>2.2</td>\n",
       "    </tr>\n",
       "    <tr>\n",
       "      <th>18</th>\n",
       "      <td>0.2</td>\n",
       "      <td>0.0</td>\n",
       "      <td>0.0</td>\n",
       "      <td>10</td>\n",
       "      <td>20.18</td>\n",
       "      <td>2.3</td>\n",
       "      <td>11</td>\n",
       "      <td>20.18</td>\n",
       "      <td>2.2</td>\n",
       "    </tr>\n",
       "    <tr>\n",
       "      <th>19</th>\n",
       "      <td>0.1</td>\n",
       "      <td>0.0</td>\n",
       "      <td>0.0</td>\n",
       "      <td>10</td>\n",
       "      <td>20.18</td>\n",
       "      <td>2.3</td>\n",
       "      <td>11</td>\n",
       "      <td>20.18</td>\n",
       "      <td>2.3</td>\n",
       "    </tr>\n",
       "    <tr>\n",
       "      <th>20</th>\n",
       "      <td>0.1</td>\n",
       "      <td>0.0</td>\n",
       "      <td>0.0</td>\n",
       "      <td>10</td>\n",
       "      <td>20.18</td>\n",
       "      <td>2.4</td>\n",
       "      <td>11</td>\n",
       "      <td>20.18</td>\n",
       "      <td>2.3</td>\n",
       "    </tr>\n",
       "  </tbody>\n",
       "</table>\n",
       "</div>"
      ],
      "text/plain": [
       "    Value  IsThirdPartyConfirmed  IsDefaulted  start_month  start_year  \\\n",
       "15    1.0                    0.0          0.0           10       20.18   \n",
       "17    0.1                    0.0          0.0           10       20.18   \n",
       "18    0.2                    0.0          0.0           10       20.18   \n",
       "19    0.1                    0.0          0.0           10       20.18   \n",
       "20    0.1                    0.0          0.0           10       20.18   \n",
       "\n",
       "    start_day  due_month  due_year  due_day  \n",
       "15        2.2         11     20.18      2.1  \n",
       "17        2.3         11     20.18      2.2  \n",
       "18        2.3         11     20.18      2.2  \n",
       "19        2.3         11     20.18      2.3  \n",
       "20        2.4         11     20.18      2.3  "
      ]
     },
     "execution_count": 203,
     "metadata": {},
     "output_type": "execute_result"
    }
   ],
   "source": [
    "train_df.head()"
   ]
  },
  {
   "cell_type": "markdown",
   "metadata": {},
   "source": [
    "# 4. Benchmarking"
   ]
  },
  {
   "cell_type": "code",
   "execution_count": 204,
   "metadata": {},
   "outputs": [
    {
     "data": {
      "text/plain": [
       "Index(['CustomerId', 'TransactionStartTime', 'Value', 'Amount',\n",
       "       'TransactionId', 'BatchId', 'SubscriptionId', 'CurrencyCode',\n",
       "       'CountryCode', 'ProviderId', 'ProductId', 'ProductCategory',\n",
       "       'ChannelId', 'TransactionStatus', 'IssuedDateLoan', 'AmountLoan',\n",
       "       'Currency', 'LoanId', 'PaidOnDate', 'IsFinalPayBack', 'InvestorId',\n",
       "       'DueDate', 'LoanApplicationId', 'PayBackId', 'ThirdPartyId',\n",
       "       'IsThirdPartyConfirmed', 'IsDefaulted'],\n",
       "      dtype='object')"
      ]
     },
     "execution_count": 204,
     "metadata": {},
     "output_type": "execute_result"
    }
   ],
   "source": [
    "new_df.columns"
   ]
  },
  {
   "cell_type": "code",
   "execution_count": 205,
   "metadata": {},
   "outputs": [
    {
     "data": {
      "text/plain": [
       "0.0    1303\n",
       "1.0     176\n",
       "Name: IsDefaulted, dtype: int64"
      ]
     },
     "execution_count": 205,
     "metadata": {},
     "output_type": "execute_result"
    }
   ],
   "source": [
    "new_df['IsDefaulted'].value_counts()"
   ]
  },
  {
   "cell_type": "code",
   "execution_count": 206,
   "metadata": {},
   "outputs": [
    {
     "data": {
      "image/png": "[encoded data removed]",
      "text/plain": [
       "<Figure size 720x432 with 1 Axes>"
      ]
     },
     "metadata": {},
     "output_type": "display_data"
    }
   ],
   "source": [
    "new_df['IsDefaulted'].value_counts().plot(kind='bar');"
   ]
  },
  {
   "cell_type": "markdown",
   "metadata": {},
   "source": [
    "### Defaulters"
   ]
  },
  {
   "cell_type": "code",
   "execution_count": 207,
   "metadata": {},
   "outputs": [
    {
     "data": {
      "text/plain": [
       "11.899932386747803"
      ]
     },
     "execution_count": 207,
     "metadata": {},
     "output_type": "execute_result"
    }
   ],
   "source": [
    "176/(176+1303) * 100"
   ]
  },
  {
   "cell_type": "markdown",
   "metadata": {},
   "source": [
    "### Did not Default"
   ]
  },
  {
   "cell_type": "code",
   "execution_count": 208,
   "metadata": {},
   "outputs": [
    {
     "data": {
      "text/plain": [
       "88.1000676132522"
      ]
     },
     "execution_count": 208,
     "metadata": {},
     "output_type": "execute_result"
    }
   ],
   "source": [
    "1303/(176+1303) * 100"
   ]
  },
  {
   "cell_type": "code",
   "execution_count": 209,
   "metadata": {},
   "outputs": [],
   "source": [
    "dummy_results = []\n",
    "\n",
    "for i in range(1, 906):\n",
    "    dummy_results.append(0)\n",
    "    "
   ]
  },
  {
   "cell_type": "code",
   "execution_count": 210,
   "metadata": {},
   "outputs": [
    {
     "data": {
      "text/html": [
       "<div>\n",
       "<style scoped>\n",
       "    .dataframe tbody tr th:only-of-type {\n",
       "        vertical-align: middle;\n",
       "    }\n",
       "\n",
       "    .dataframe tbody tr th {\n",
       "        vertical-align: top;\n",
       "    }\n",
       "\n",
       "    .dataframe thead th {\n",
       "        text-align: right;\n",
       "    }\n",
       "</style>\n",
       "<table border=\"1\" class=\"dataframe\">\n",
       "  <thead>\n",
       "    <tr style=\"text-align: right;\">\n",
       "      <th></th>\n",
       "      <th>TransactionId</th>\n",
       "      <th>IsDefaulted</th>\n",
       "    </tr>\n",
       "  </thead>\n",
       "  <tbody>\n",
       "    <tr>\n",
       "      <th>0</th>\n",
       "      <td>TransactionId_925</td>\n",
       "      <td>0.0</td>\n",
       "    </tr>\n",
       "    <tr>\n",
       "      <th>1</th>\n",
       "      <td>TransactionId_1080</td>\n",
       "      <td>1.0</td>\n",
       "    </tr>\n",
       "    <tr>\n",
       "      <th>2</th>\n",
       "      <td>TransactionId_2315</td>\n",
       "      <td>0.0</td>\n",
       "    </tr>\n",
       "    <tr>\n",
       "      <th>3</th>\n",
       "      <td>TransactionId_1466</td>\n",
       "      <td>0.0</td>\n",
       "    </tr>\n",
       "    <tr>\n",
       "      <th>4</th>\n",
       "      <td>TransactionId_337</td>\n",
       "      <td>1.0</td>\n",
       "    </tr>\n",
       "  </tbody>\n",
       "</table>\n",
       "</div>"
      ],
      "text/plain": [
       "        TransactionId  IsDefaulted\n",
       "0   TransactionId_925          0.0\n",
       "1  TransactionId_1080          1.0\n",
       "2  TransactionId_2315          0.0\n",
       "3  TransactionId_1466          0.0\n",
       "4   TransactionId_337          1.0"
      ]
     },
     "execution_count": 210,
     "metadata": {},
     "output_type": "execute_result"
    }
   ],
   "source": [
    "sample.head()"
   ]
  },
  {
   "cell_type": "code",
   "execution_count": 211,
   "metadata": {},
   "outputs": [
    {
     "data": {
      "text/plain": [
       "905"
      ]
     },
     "execution_count": 211,
     "metadata": {},
     "output_type": "execute_result"
    }
   ],
   "source": [
    "len(dummy_results)"
   ]
  },
  {
   "cell_type": "code",
   "execution_count": 212,
   "metadata": {},
   "outputs": [
    {
     "data": {
      "text/plain": [
       "[0, 0, 0, 0, 0]"
      ]
     },
     "execution_count": 212,
     "metadata": {},
     "output_type": "execute_result"
    }
   ],
   "source": [
    "dummy_results[:5]"
   ]
  },
  {
   "cell_type": "code",
   "execution_count": 213,
   "metadata": {},
   "outputs": [],
   "source": [
    "dummy_submit = {'TransactionId': test['TransactionId'], 'IsDefaulted':dummy_results}\n",
    "dummy_submit = pd.DataFrame(dummy_submit)"
   ]
  },
  {
   "cell_type": "code",
   "execution_count": 219,
   "metadata": {},
   "outputs": [
    {
     "name": "stdout",
     "output_type": "stream",
     "text": [
      "<class 'pandas.core.frame.DataFrame'>\n",
      "RangeIndex: 905 entries, 0 to 904\n",
      "Data columns (total 2 columns):\n",
      "CustomerId     905 non-null object\n",
      "IsDefaulted    905 non-null int64\n",
      "dtypes: int64(1), object(1)\n",
      "memory usage: 14.2+ KB\n"
     ]
    }
   ],
   "source": [
    "dummy_submit.info()"
   ]
  },
  {
   "cell_type": "code",
   "execution_count": 215,
   "metadata": {},
   "outputs": [],
   "source": [
    "dummy_submit.to_csv('Benchmark.csv', index=False)"
   ]
  },
  {
   "cell_type": "markdown",
   "metadata": {},
   "source": [
    "# 5. Test Data"
   ]
  },
  {
   "cell_type": "code",
   "execution_count": 220,
   "metadata": {},
   "outputs": [
    {
     "data": {
      "image/png": "[encoded data removed]",
      "text/plain": [
       "<Figure size 720x432 with 1 Axes>"
      ]
     },
     "metadata": {},
     "output_type": "display_data"
    }
   ],
   "source": [
    "DataProcess.Missing(test);"
   ]
  },
  {
   "cell_type": "code",
   "execution_count": 221,
   "metadata": {},
   "outputs": [
    {
     "data": {
      "text/plain": [
       "Index(['CustomerId', 'TransactionStartTime', 'Value', 'Amount',\n",
       "       'TransactionId', 'BatchId', 'SubscriptionId', 'CurrencyCode',\n",
       "       'CountryCode', 'ProviderId', 'ProductId', 'ProductCategory',\n",
       "       'ChannelId', 'TransactionStatus', 'IssuedDateLoan', 'LoanId',\n",
       "       'InvestorId', 'LoanApplicationId', 'ThirdPartyId'],\n",
       "      dtype='object')"
      ]
     },
     "execution_count": 221,
     "metadata": {},
     "output_type": "execute_result"
    }
   ],
   "source": [
    "test.columns"
   ]
  },
  {
   "cell_type": "code",
   "execution_count": 222,
   "metadata": {},
   "outputs": [
    {
     "data": {
      "text/html": [
       "<div>\n",
       "<style scoped>\n",
       "    .dataframe tbody tr th:only-of-type {\n",
       "        vertical-align: middle;\n",
       "    }\n",
       "\n",
       "    .dataframe tbody tr th {\n",
       "        vertical-align: top;\n",
       "    }\n",
       "\n",
       "    .dataframe thead th {\n",
       "        text-align: right;\n",
       "    }\n",
       "</style>\n",
       "<table border=\"1\" class=\"dataframe\">\n",
       "  <thead>\n",
       "    <tr style=\"text-align: right;\">\n",
       "      <th></th>\n",
       "      <th>CustomerId</th>\n",
       "      <th>TransactionStartTime</th>\n",
       "      <th>Value</th>\n",
       "      <th>Amount</th>\n",
       "      <th>TransactionId</th>\n",
       "      <th>BatchId</th>\n",
       "      <th>SubscriptionId</th>\n",
       "      <th>CurrencyCode</th>\n",
       "      <th>CountryCode</th>\n",
       "      <th>ProviderId</th>\n",
       "      <th>ProductId</th>\n",
       "      <th>ProductCategory</th>\n",
       "      <th>ChannelId</th>\n",
       "      <th>TransactionStatus</th>\n",
       "      <th>IssuedDateLoan</th>\n",
       "      <th>LoanId</th>\n",
       "      <th>InvestorId</th>\n",
       "      <th>LoanApplicationId</th>\n",
       "      <th>ThirdPartyId</th>\n",
       "    </tr>\n",
       "  </thead>\n",
       "  <tbody>\n",
       "    <tr>\n",
       "      <th>0</th>\n",
       "      <td>CustomerId_310</td>\n",
       "      <td>2019-03-31 13:33:05</td>\n",
       "      <td>14000.0</td>\n",
       "      <td>-14000.0</td>\n",
       "      <td>TransactionId_925</td>\n",
       "      <td>BatchId_1144</td>\n",
       "      <td>SubscriptionId_7</td>\n",
       "      <td>UGX</td>\n",
       "      <td>256</td>\n",
       "      <td>ProviderId_1</td>\n",
       "      <td>ProductId_7</td>\n",
       "      <td>airtime</td>\n",
       "      <td>ChannelId_1</td>\n",
       "      <td>1</td>\n",
       "      <td>2019-03-31 13:33:04</td>\n",
       "      <td>LoanId_1027</td>\n",
       "      <td>InvestorId_1</td>\n",
       "      <td>LoanApplicationId_825</td>\n",
       "      <td>ThirdPartyId_1175</td>\n",
       "    </tr>\n",
       "    <tr>\n",
       "      <th>1</th>\n",
       "      <td>CustomerId_243</td>\n",
       "      <td>2019-03-31 15:04:09</td>\n",
       "      <td>1000.0</td>\n",
       "      <td>-1000.0</td>\n",
       "      <td>TransactionId_1080</td>\n",
       "      <td>BatchId_1214</td>\n",
       "      <td>SubscriptionId_7</td>\n",
       "      <td>UGX</td>\n",
       "      <td>256</td>\n",
       "      <td>ProviderId_1</td>\n",
       "      <td>ProductId_8</td>\n",
       "      <td>data_bundles</td>\n",
       "      <td>ChannelId_1</td>\n",
       "      <td>1</td>\n",
       "      <td>2019-03-31 15:04:08</td>\n",
       "      <td>LoanId_768</td>\n",
       "      <td>InvestorId_1</td>\n",
       "      <td>LoanApplicationId_68</td>\n",
       "      <td>ThirdPartyId_604</td>\n",
       "    </tr>\n",
       "    <tr>\n",
       "      <th>2</th>\n",
       "      <td>CustomerId_142</td>\n",
       "      <td>2019-03-31 17:31:11</td>\n",
       "      <td>2500.0</td>\n",
       "      <td>-2500.0</td>\n",
       "      <td>TransactionId_2315</td>\n",
       "      <td>BatchId_2150</td>\n",
       "      <td>SubscriptionId_7</td>\n",
       "      <td>UGX</td>\n",
       "      <td>256</td>\n",
       "      <td>ProviderId_1</td>\n",
       "      <td>ProductId_7</td>\n",
       "      <td>airtime</td>\n",
       "      <td>ChannelId_1</td>\n",
       "      <td>1</td>\n",
       "      <td>2019-03-31 17:31:09</td>\n",
       "      <td>LoanId_1067</td>\n",
       "      <td>InvestorId_1</td>\n",
       "      <td>LoanApplicationId_1223</td>\n",
       "      <td>ThirdPartyId_1521</td>\n",
       "    </tr>\n",
       "    <tr>\n",
       "      <th>3</th>\n",
       "      <td>CustomerId_142</td>\n",
       "      <td>2019-03-31 17:32:15</td>\n",
       "      <td>500.0</td>\n",
       "      <td>-500.0</td>\n",
       "      <td>TransactionId_1466</td>\n",
       "      <td>BatchId_1071</td>\n",
       "      <td>SubscriptionId_7</td>\n",
       "      <td>UGX</td>\n",
       "      <td>256</td>\n",
       "      <td>ProviderId_1</td>\n",
       "      <td>ProductId_7</td>\n",
       "      <td>airtime</td>\n",
       "      <td>ChannelId_1</td>\n",
       "      <td>1</td>\n",
       "      <td>2019-03-31 17:32:14</td>\n",
       "      <td>LoanId_202</td>\n",
       "      <td>InvestorId_1</td>\n",
       "      <td>LoanApplicationId_633</td>\n",
       "      <td>ThirdPartyId_406</td>\n",
       "    </tr>\n",
       "    <tr>\n",
       "      <th>4</th>\n",
       "      <td>CustomerId_142</td>\n",
       "      <td>2019-03-31 17:34:41</td>\n",
       "      <td>1000.0</td>\n",
       "      <td>-1000.0</td>\n",
       "      <td>TransactionId_337</td>\n",
       "      <td>BatchId_2477</td>\n",
       "      <td>SubscriptionId_7</td>\n",
       "      <td>UGX</td>\n",
       "      <td>256</td>\n",
       "      <td>ProviderId_1</td>\n",
       "      <td>ProductId_7</td>\n",
       "      <td>airtime</td>\n",
       "      <td>ChannelId_1</td>\n",
       "      <td>1</td>\n",
       "      <td>2019-03-31 17:34:40</td>\n",
       "      <td>LoanId_533</td>\n",
       "      <td>InvestorId_1</td>\n",
       "      <td>LoanApplicationId_309</td>\n",
       "      <td>ThirdPartyId_302</td>\n",
       "    </tr>\n",
       "  </tbody>\n",
       "</table>\n",
       "</div>"
      ],
      "text/plain": [
       "       CustomerId TransactionStartTime    Value   Amount       TransactionId  \\\n",
       "0  CustomerId_310  2019-03-31 13:33:05  14000.0 -14000.0   TransactionId_925   \n",
       "1  CustomerId_243  2019-03-31 15:04:09   1000.0  -1000.0  TransactionId_1080   \n",
       "2  CustomerId_142  2019-03-31 17:31:11   2500.0  -2500.0  TransactionId_2315   \n",
       "3  CustomerId_142  2019-03-31 17:32:15    500.0   -500.0  TransactionId_1466   \n",
       "4  CustomerId_142  2019-03-31 17:34:41   1000.0  -1000.0   TransactionId_337   \n",
       "\n",
       "        BatchId    SubscriptionId CurrencyCode  CountryCode    ProviderId  \\\n",
       "0  BatchId_1144  SubscriptionId_7          UGX          256  ProviderId_1   \n",
       "1  BatchId_1214  SubscriptionId_7          UGX          256  ProviderId_1   \n",
       "2  BatchId_2150  SubscriptionId_7          UGX          256  ProviderId_1   \n",
       "3  BatchId_1071  SubscriptionId_7          UGX          256  ProviderId_1   \n",
       "4  BatchId_2477  SubscriptionId_7          UGX          256  ProviderId_1   \n",
       "\n",
       "     ProductId ProductCategory    ChannelId  TransactionStatus  \\\n",
       "0  ProductId_7         airtime  ChannelId_1                  1   \n",
       "1  ProductId_8    data_bundles  ChannelId_1                  1   \n",
       "2  ProductId_7         airtime  ChannelId_1                  1   \n",
       "3  ProductId_7         airtime  ChannelId_1                  1   \n",
       "4  ProductId_7         airtime  ChannelId_1                  1   \n",
       "\n",
       "        IssuedDateLoan       LoanId    InvestorId       LoanApplicationId  \\\n",
       "0  2019-03-31 13:33:04  LoanId_1027  InvestorId_1   LoanApplicationId_825   \n",
       "1  2019-03-31 15:04:08   LoanId_768  InvestorId_1    LoanApplicationId_68   \n",
       "2  2019-03-31 17:31:09  LoanId_1067  InvestorId_1  LoanApplicationId_1223   \n",
       "3  2019-03-31 17:32:14   LoanId_202  InvestorId_1   LoanApplicationId_633   \n",
       "4  2019-03-31 17:34:40   LoanId_533  InvestorId_1   LoanApplicationId_309   \n",
       "\n",
       "        ThirdPartyId  \n",
       "0  ThirdPartyId_1175  \n",
       "1   ThirdPartyId_604  \n",
       "2  ThirdPartyId_1521  \n",
       "3   ThirdPartyId_406  \n",
       "4   ThirdPartyId_302  "
      ]
     },
     "execution_count": 222,
     "metadata": {},
     "output_type": "execute_result"
    }
   ],
   "source": [
    "test.head()"
   ]
  },
  {
   "cell_type": "code",
   "execution_count": 223,
   "metadata": {},
   "outputs": [
    {
     "data": {
      "text/plain": [
       "0    ThirdPartyId_1175\n",
       "1     ThirdPartyId_604\n",
       "2    ThirdPartyId_1521\n",
       "3     ThirdPartyId_406\n",
       "4     ThirdPartyId_302\n",
       "5                  NaN\n",
       "6                  NaN\n",
       "7     ThirdPartyId_281\n",
       "8                  NaN\n",
       "9                  NaN\n",
       "Name: ThirdPartyId, dtype: object"
      ]
     },
     "execution_count": 223,
     "metadata": {},
     "output_type": "execute_result"
    }
   ],
   "source": [
    "test.ThirdPartyId.head(10)"
   ]
  },
  {
   "cell_type": "code",
   "execution_count": 224,
   "metadata": {},
   "outputs": [],
   "source": [
    "def convert_str(x):\n",
    "    return (str(x))\n",
    "\n",
    "def confirm(x):\n",
    "    if x == 'nan':\n",
    "        return (0)\n",
    "    else:\n",
    "        return (1)"
   ]
  },
  {
   "cell_type": "code",
   "execution_count": 225,
   "metadata": {},
   "outputs": [],
   "source": [
    "test['ThirdPartyId'] = test['ThirdPartyId'].apply(convert_str)"
   ]
  },
  {
   "cell_type": "code",
   "execution_count": 226,
   "metadata": {},
   "outputs": [],
   "source": [
    "test['IsThirdPartyConfirmed'] = test['ThirdPartyId'].apply(confirm)"
   ]
  },
  {
   "cell_type": "code",
   "execution_count": 227,
   "metadata": {},
   "outputs": [
    {
     "data": {
      "text/plain": [
       "1    478\n",
       "0    427\n",
       "Name: IsThirdPartyConfirmed, dtype: int64"
      ]
     },
     "execution_count": 227,
     "metadata": {},
     "output_type": "execute_result"
    }
   ],
   "source": [
    "test['IsThirdPartyConfirmed'].value_counts()"
   ]
  },
  {
   "cell_type": "code",
   "execution_count": 228,
   "metadata": {},
   "outputs": [
    {
     "data": {
      "text/html": [
       "<div>\n",
       "<style scoped>\n",
       "    .dataframe tbody tr th:only-of-type {\n",
       "        vertical-align: middle;\n",
       "    }\n",
       "\n",
       "    .dataframe tbody tr th {\n",
       "        vertical-align: top;\n",
       "    }\n",
       "\n",
       "    .dataframe thead th {\n",
       "        text-align: right;\n",
       "    }\n",
       "</style>\n",
       "<table border=\"1\" class=\"dataframe\">\n",
       "  <thead>\n",
       "    <tr style=\"text-align: right;\">\n",
       "      <th></th>\n",
       "      <th>TransactionStartTime</th>\n",
       "      <th>IssuedDateLoan</th>\n",
       "      <th>Value</th>\n",
       "      <th>IsThirdPartyConfirmed</th>\n",
       "    </tr>\n",
       "  </thead>\n",
       "  <tbody>\n",
       "    <tr>\n",
       "      <th>0</th>\n",
       "      <td>2019-03-31 13:33:05</td>\n",
       "      <td>2019-03-31 13:33:04</td>\n",
       "      <td>14000.0</td>\n",
       "      <td>1</td>\n",
       "    </tr>\n",
       "    <tr>\n",
       "      <th>1</th>\n",
       "      <td>2019-03-31 15:04:09</td>\n",
       "      <td>2019-03-31 15:04:08</td>\n",
       "      <td>1000.0</td>\n",
       "      <td>1</td>\n",
       "    </tr>\n",
       "    <tr>\n",
       "      <th>2</th>\n",
       "      <td>2019-03-31 17:31:11</td>\n",
       "      <td>2019-03-31 17:31:09</td>\n",
       "      <td>2500.0</td>\n",
       "      <td>1</td>\n",
       "    </tr>\n",
       "    <tr>\n",
       "      <th>3</th>\n",
       "      <td>2019-03-31 17:32:15</td>\n",
       "      <td>2019-03-31 17:32:14</td>\n",
       "      <td>500.0</td>\n",
       "      <td>1</td>\n",
       "    </tr>\n",
       "    <tr>\n",
       "      <th>4</th>\n",
       "      <td>2019-03-31 17:34:41</td>\n",
       "      <td>2019-03-31 17:34:40</td>\n",
       "      <td>1000.0</td>\n",
       "      <td>1</td>\n",
       "    </tr>\n",
       "  </tbody>\n",
       "</table>\n",
       "</div>"
      ],
      "text/plain": [
       "  TransactionStartTime       IssuedDateLoan    Value  IsThirdPartyConfirmed\n",
       "0  2019-03-31 13:33:05  2019-03-31 13:33:04  14000.0                      1\n",
       "1  2019-03-31 15:04:09  2019-03-31 15:04:08   1000.0                      1\n",
       "2  2019-03-31 17:31:11  2019-03-31 17:31:09   2500.0                      1\n",
       "3  2019-03-31 17:32:15  2019-03-31 17:32:14    500.0                      1\n",
       "4  2019-03-31 17:34:41  2019-03-31 17:34:40   1000.0                      1"
      ]
     },
     "execution_count": 228,
     "metadata": {},
     "output_type": "execute_result"
    }
   ],
   "source": [
    "test_df = test[['TransactionStartTime', 'IssuedDateLoan', 'Value', 'IsThirdPartyConfirmed']]\n",
    "test_df.head()"
   ]
  },
  {
   "cell_type": "code",
   "execution_count": 229,
   "metadata": {},
   "outputs": [],
   "source": [
    "test_df['TransactionStartTime'] = pd.to_datetime(test_df['TransactionStartTime'])\n",
    "test_df['IssuedDateLoan'] = pd.to_datetime(test_df['IssuedDateLoan'])"
   ]
  },
  {
   "cell_type": "code",
   "execution_count": 230,
   "metadata": {},
   "outputs": [],
   "source": [
    "# Extract the start dates\n",
    "test_df['start_month'] = test_df['TransactionStartTime'].apply(DataProcess.get_month)\n",
    "test_df['start_year'] = test_df['TransactionStartTime'].apply(DataProcess.get_year)\n",
    "test_df['start_day'] = test_df['TransactionStartTime'].apply(DataProcess.get_day)\n",
    "\n",
    "# Extract the due dates\n",
    "test_df['due_month'] = test_df['IssuedDateLoan'].apply(DataProcess.get_month)\n",
    "test_df['due_year'] = test_df['IssuedDateLoan'].apply(DataProcess.get_year)\n",
    "test_df['due_day'] = test_df['IssuedDateLoan'].apply(DataProcess.get_day)"
   ]
  },
  {
   "cell_type": "code",
   "execution_count": 231,
   "metadata": {},
   "outputs": [
    {
     "data": {
      "text/html": [
       "<div>\n",
       "<style scoped>\n",
       "    .dataframe tbody tr th:only-of-type {\n",
       "        vertical-align: middle;\n",
       "    }\n",
       "\n",
       "    .dataframe tbody tr th {\n",
       "        vertical-align: top;\n",
       "    }\n",
       "\n",
       "    .dataframe thead th {\n",
       "        text-align: right;\n",
       "    }\n",
       "</style>\n",
       "<table border=\"1\" class=\"dataframe\">\n",
       "  <thead>\n",
       "    <tr style=\"text-align: right;\">\n",
       "      <th></th>\n",
       "      <th>TransactionStartTime</th>\n",
       "      <th>IssuedDateLoan</th>\n",
       "      <th>Value</th>\n",
       "      <th>IsThirdPartyConfirmed</th>\n",
       "      <th>start_month</th>\n",
       "      <th>start_year</th>\n",
       "      <th>start_day</th>\n",
       "      <th>due_month</th>\n",
       "      <th>due_year</th>\n",
       "      <th>due_day</th>\n",
       "    </tr>\n",
       "  </thead>\n",
       "  <tbody>\n",
       "    <tr>\n",
       "      <th>0</th>\n",
       "      <td>2019-03-31 13:33:05</td>\n",
       "      <td>2019-03-31 13:33:04</td>\n",
       "      <td>14000.0</td>\n",
       "      <td>1</td>\n",
       "      <td>3</td>\n",
       "      <td>2019</td>\n",
       "      <td>31</td>\n",
       "      <td>3.0</td>\n",
       "      <td>2019.0</td>\n",
       "      <td>31.0</td>\n",
       "    </tr>\n",
       "    <tr>\n",
       "      <th>1</th>\n",
       "      <td>2019-03-31 15:04:09</td>\n",
       "      <td>2019-03-31 15:04:08</td>\n",
       "      <td>1000.0</td>\n",
       "      <td>1</td>\n",
       "      <td>3</td>\n",
       "      <td>2019</td>\n",
       "      <td>31</td>\n",
       "      <td>3.0</td>\n",
       "      <td>2019.0</td>\n",
       "      <td>31.0</td>\n",
       "    </tr>\n",
       "    <tr>\n",
       "      <th>2</th>\n",
       "      <td>2019-03-31 17:31:11</td>\n",
       "      <td>2019-03-31 17:31:09</td>\n",
       "      <td>2500.0</td>\n",
       "      <td>1</td>\n",
       "      <td>3</td>\n",
       "      <td>2019</td>\n",
       "      <td>31</td>\n",
       "      <td>3.0</td>\n",
       "      <td>2019.0</td>\n",
       "      <td>31.0</td>\n",
       "    </tr>\n",
       "    <tr>\n",
       "      <th>3</th>\n",
       "      <td>2019-03-31 17:32:15</td>\n",
       "      <td>2019-03-31 17:32:14</td>\n",
       "      <td>500.0</td>\n",
       "      <td>1</td>\n",
       "      <td>3</td>\n",
       "      <td>2019</td>\n",
       "      <td>31</td>\n",
       "      <td>3.0</td>\n",
       "      <td>2019.0</td>\n",
       "      <td>31.0</td>\n",
       "    </tr>\n",
       "    <tr>\n",
       "      <th>4</th>\n",
       "      <td>2019-03-31 17:34:41</td>\n",
       "      <td>2019-03-31 17:34:40</td>\n",
       "      <td>1000.0</td>\n",
       "      <td>1</td>\n",
       "      <td>3</td>\n",
       "      <td>2019</td>\n",
       "      <td>31</td>\n",
       "      <td>3.0</td>\n",
       "      <td>2019.0</td>\n",
       "      <td>31.0</td>\n",
       "    </tr>\n",
       "  </tbody>\n",
       "</table>\n",
       "</div>"
      ],
      "text/plain": [
       "  TransactionStartTime      IssuedDateLoan    Value  IsThirdPartyConfirmed  \\\n",
       "0  2019-03-31 13:33:05 2019-03-31 13:33:04  14000.0                      1   \n",
       "1  2019-03-31 15:04:09 2019-03-31 15:04:08   1000.0                      1   \n",
       "2  2019-03-31 17:31:11 2019-03-31 17:31:09   2500.0                      1   \n",
       "3  2019-03-31 17:32:15 2019-03-31 17:32:14    500.0                      1   \n",
       "4  2019-03-31 17:34:41 2019-03-31 17:34:40   1000.0                      1   \n",
       "\n",
       "   start_month  start_year  start_day  due_month  due_year  due_day  \n",
       "0            3        2019         31        3.0    2019.0     31.0  \n",
       "1            3        2019         31        3.0    2019.0     31.0  \n",
       "2            3        2019         31        3.0    2019.0     31.0  \n",
       "3            3        2019         31        3.0    2019.0     31.0  \n",
       "4            3        2019         31        3.0    2019.0     31.0  "
      ]
     },
     "execution_count": 231,
     "metadata": {},
     "output_type": "execute_result"
    }
   ],
   "source": [
    "test_df.head()"
   ]
  },
  {
   "cell_type": "code",
   "execution_count": 232,
   "metadata": {},
   "outputs": [
    {
     "data": {
      "text/html": [
       "<div>\n",
       "<style scoped>\n",
       "    .dataframe tbody tr th:only-of-type {\n",
       "        vertical-align: middle;\n",
       "    }\n",
       "\n",
       "    .dataframe tbody tr th {\n",
       "        vertical-align: top;\n",
       "    }\n",
       "\n",
       "    .dataframe thead th {\n",
       "        text-align: right;\n",
       "    }\n",
       "</style>\n",
       "<table border=\"1\" class=\"dataframe\">\n",
       "  <thead>\n",
       "    <tr style=\"text-align: right;\">\n",
       "      <th></th>\n",
       "      <th>Value</th>\n",
       "      <th>IsThirdPartyConfirmed</th>\n",
       "      <th>start_month</th>\n",
       "      <th>start_year</th>\n",
       "      <th>start_day</th>\n",
       "      <th>due_month</th>\n",
       "      <th>due_year</th>\n",
       "      <th>due_day</th>\n",
       "    </tr>\n",
       "  </thead>\n",
       "  <tbody>\n",
       "    <tr>\n",
       "      <th>0</th>\n",
       "      <td>14000.0</td>\n",
       "      <td>1</td>\n",
       "      <td>3</td>\n",
       "      <td>2019</td>\n",
       "      <td>31</td>\n",
       "      <td>3.0</td>\n",
       "      <td>2019.0</td>\n",
       "      <td>31.0</td>\n",
       "    </tr>\n",
       "    <tr>\n",
       "      <th>1</th>\n",
       "      <td>1000.0</td>\n",
       "      <td>1</td>\n",
       "      <td>3</td>\n",
       "      <td>2019</td>\n",
       "      <td>31</td>\n",
       "      <td>3.0</td>\n",
       "      <td>2019.0</td>\n",
       "      <td>31.0</td>\n",
       "    </tr>\n",
       "    <tr>\n",
       "      <th>2</th>\n",
       "      <td>2500.0</td>\n",
       "      <td>1</td>\n",
       "      <td>3</td>\n",
       "      <td>2019</td>\n",
       "      <td>31</td>\n",
       "      <td>3.0</td>\n",
       "      <td>2019.0</td>\n",
       "      <td>31.0</td>\n",
       "    </tr>\n",
       "    <tr>\n",
       "      <th>3</th>\n",
       "      <td>500.0</td>\n",
       "      <td>1</td>\n",
       "      <td>3</td>\n",
       "      <td>2019</td>\n",
       "      <td>31</td>\n",
       "      <td>3.0</td>\n",
       "      <td>2019.0</td>\n",
       "      <td>31.0</td>\n",
       "    </tr>\n",
       "    <tr>\n",
       "      <th>4</th>\n",
       "      <td>1000.0</td>\n",
       "      <td>1</td>\n",
       "      <td>3</td>\n",
       "      <td>2019</td>\n",
       "      <td>31</td>\n",
       "      <td>3.0</td>\n",
       "      <td>2019.0</td>\n",
       "      <td>31.0</td>\n",
       "    </tr>\n",
       "  </tbody>\n",
       "</table>\n",
       "</div>"
      ],
      "text/plain": [
       "     Value  IsThirdPartyConfirmed  start_month  start_year  start_day  \\\n",
       "0  14000.0                      1            3        2019         31   \n",
       "1   1000.0                      1            3        2019         31   \n",
       "2   2500.0                      1            3        2019         31   \n",
       "3    500.0                      1            3        2019         31   \n",
       "4   1000.0                      1            3        2019         31   \n",
       "\n",
       "   due_month  due_year  due_day  \n",
       "0        3.0    2019.0     31.0  \n",
       "1        3.0    2019.0     31.0  \n",
       "2        3.0    2019.0     31.0  \n",
       "3        3.0    2019.0     31.0  \n",
       "4        3.0    2019.0     31.0  "
      ]
     },
     "execution_count": 232,
     "metadata": {},
     "output_type": "execute_result"
    }
   ],
   "source": [
    "test_df = test_df.drop(['TransactionStartTime', 'IssuedDateLoan'], axis=1)\n",
    "test_df.head()"
   ]
  },
  {
   "cell_type": "code",
   "execution_count": 233,
   "metadata": {},
   "outputs": [],
   "source": [
    "test_df['Value'] = test_df['Value']/5000\n",
    "test_df['start_month'] = test_df['start_month']\n",
    "test_df['start_year'] = test_df['start_year']/100\n",
    "test_df['start_day'] = test_df['start_day']/10\n",
    "\n",
    "test_df['due_year'] = test_df['due_year']/100\n",
    "test_df['due_month'] = test_df['due_month']\n",
    "test_df['due_day'] = test_df['due_day']/10"
   ]
  },
  {
   "cell_type": "code",
   "execution_count": 234,
   "metadata": {},
   "outputs": [
    {
     "data": {
      "text/html": [
       "<div>\n",
       "<style scoped>\n",
       "    .dataframe tbody tr th:only-of-type {\n",
       "        vertical-align: middle;\n",
       "    }\n",
       "\n",
       "    .dataframe tbody tr th {\n",
       "        vertical-align: top;\n",
       "    }\n",
       "\n",
       "    .dataframe thead th {\n",
       "        text-align: right;\n",
       "    }\n",
       "</style>\n",
       "<table border=\"1\" class=\"dataframe\">\n",
       "  <thead>\n",
       "    <tr style=\"text-align: right;\">\n",
       "      <th></th>\n",
       "      <th>Value</th>\n",
       "      <th>IsThirdPartyConfirmed</th>\n",
       "      <th>start_month</th>\n",
       "      <th>start_year</th>\n",
       "      <th>start_day</th>\n",
       "      <th>due_month</th>\n",
       "      <th>due_year</th>\n",
       "      <th>due_day</th>\n",
       "    </tr>\n",
       "  </thead>\n",
       "  <tbody>\n",
       "    <tr>\n",
       "      <th>0</th>\n",
       "      <td>2.8</td>\n",
       "      <td>1</td>\n",
       "      <td>3</td>\n",
       "      <td>20.19</td>\n",
       "      <td>3.1</td>\n",
       "      <td>3.0</td>\n",
       "      <td>20.19</td>\n",
       "      <td>3.1</td>\n",
       "    </tr>\n",
       "    <tr>\n",
       "      <th>1</th>\n",
       "      <td>0.2</td>\n",
       "      <td>1</td>\n",
       "      <td>3</td>\n",
       "      <td>20.19</td>\n",
       "      <td>3.1</td>\n",
       "      <td>3.0</td>\n",
       "      <td>20.19</td>\n",
       "      <td>3.1</td>\n",
       "    </tr>\n",
       "    <tr>\n",
       "      <th>2</th>\n",
       "      <td>0.5</td>\n",
       "      <td>1</td>\n",
       "      <td>3</td>\n",
       "      <td>20.19</td>\n",
       "      <td>3.1</td>\n",
       "      <td>3.0</td>\n",
       "      <td>20.19</td>\n",
       "      <td>3.1</td>\n",
       "    </tr>\n",
       "    <tr>\n",
       "      <th>3</th>\n",
       "      <td>0.1</td>\n",
       "      <td>1</td>\n",
       "      <td>3</td>\n",
       "      <td>20.19</td>\n",
       "      <td>3.1</td>\n",
       "      <td>3.0</td>\n",
       "      <td>20.19</td>\n",
       "      <td>3.1</td>\n",
       "    </tr>\n",
       "    <tr>\n",
       "      <th>4</th>\n",
       "      <td>0.2</td>\n",
       "      <td>1</td>\n",
       "      <td>3</td>\n",
       "      <td>20.19</td>\n",
       "      <td>3.1</td>\n",
       "      <td>3.0</td>\n",
       "      <td>20.19</td>\n",
       "      <td>3.1</td>\n",
       "    </tr>\n",
       "  </tbody>\n",
       "</table>\n",
       "</div>"
      ],
      "text/plain": [
       "   Value  IsThirdPartyConfirmed  start_month  start_year  start_day  \\\n",
       "0    2.8                      1            3       20.19        3.1   \n",
       "1    0.2                      1            3       20.19        3.1   \n",
       "2    0.5                      1            3       20.19        3.1   \n",
       "3    0.1                      1            3       20.19        3.1   \n",
       "4    0.2                      1            3       20.19        3.1   \n",
       "\n",
       "   due_month  due_year  due_day  \n",
       "0        3.0     20.19      3.1  \n",
       "1        3.0     20.19      3.1  \n",
       "2        3.0     20.19      3.1  \n",
       "3        3.0     20.19      3.1  \n",
       "4        3.0     20.19      3.1  "
      ]
     },
     "execution_count": 234,
     "metadata": {},
     "output_type": "execute_result"
    }
   ],
   "source": [
    "test_df.head()"
   ]
  },
  {
   "cell_type": "markdown",
   "metadata": {},
   "source": [
    "# 6.  Machine Learning"
   ]
  },
  {
   "cell_type": "code",
   "execution_count": 235,
   "metadata": {},
   "outputs": [],
   "source": [
    "import xgboost as xgb"
   ]
  },
  {
   "cell_type": "code",
   "execution_count": 236,
   "metadata": {},
   "outputs": [],
   "source": [
    "model = xgb.XGBClassifier(max_depth=6, n_estimators=500)"
   ]
  },
  {
   "cell_type": "code",
   "execution_count": 237,
   "metadata": {},
   "outputs": [
    {
     "data": {
      "text/html": [
       "<div>\n",
       "<style scoped>\n",
       "    .dataframe tbody tr th:only-of-type {\n",
       "        vertical-align: middle;\n",
       "    }\n",
       "\n",
       "    .dataframe tbody tr th {\n",
       "        vertical-align: top;\n",
       "    }\n",
       "\n",
       "    .dataframe thead th {\n",
       "        text-align: right;\n",
       "    }\n",
       "</style>\n",
       "<table border=\"1\" class=\"dataframe\">\n",
       "  <thead>\n",
       "    <tr style=\"text-align: right;\">\n",
       "      <th></th>\n",
       "      <th>Value</th>\n",
       "      <th>IsThirdPartyConfirmed</th>\n",
       "      <th>IsDefaulted</th>\n",
       "      <th>start_month</th>\n",
       "      <th>start_year</th>\n",
       "      <th>start_day</th>\n",
       "      <th>due_month</th>\n",
       "      <th>due_year</th>\n",
       "      <th>due_day</th>\n",
       "    </tr>\n",
       "  </thead>\n",
       "  <tbody>\n",
       "    <tr>\n",
       "      <th>15</th>\n",
       "      <td>1.0</td>\n",
       "      <td>0.0</td>\n",
       "      <td>0.0</td>\n",
       "      <td>10</td>\n",
       "      <td>20.18</td>\n",
       "      <td>2.2</td>\n",
       "      <td>11</td>\n",
       "      <td>20.18</td>\n",
       "      <td>2.1</td>\n",
       "    </tr>\n",
       "  </tbody>\n",
       "</table>\n",
       "</div>"
      ],
      "text/plain": [
       "    Value  IsThirdPartyConfirmed  IsDefaulted  start_month  start_year  \\\n",
       "15    1.0                    0.0          0.0           10       20.18   \n",
       "\n",
       "    start_day  due_month  due_year  due_day  \n",
       "15        2.2         11     20.18      2.1  "
      ]
     },
     "execution_count": 237,
     "metadata": {},
     "output_type": "execute_result"
    }
   ],
   "source": [
    "train_df.head(1)"
   ]
  },
  {
   "cell_type": "code",
   "execution_count": 239,
   "metadata": {},
   "outputs": [
    {
     "data": {
      "text/html": [
       "<div>\n",
       "<style scoped>\n",
       "    .dataframe tbody tr th:only-of-type {\n",
       "        vertical-align: middle;\n",
       "    }\n",
       "\n",
       "    .dataframe tbody tr th {\n",
       "        vertical-align: top;\n",
       "    }\n",
       "\n",
       "    .dataframe thead th {\n",
       "        text-align: right;\n",
       "    }\n",
       "</style>\n",
       "<table border=\"1\" class=\"dataframe\">\n",
       "  <thead>\n",
       "    <tr style=\"text-align: right;\">\n",
       "      <th></th>\n",
       "      <th>Value</th>\n",
       "      <th>IsThirdPartyConfirmed</th>\n",
       "      <th>start_month</th>\n",
       "      <th>start_year</th>\n",
       "      <th>start_day</th>\n",
       "      <th>due_month</th>\n",
       "      <th>due_year</th>\n",
       "      <th>due_day</th>\n",
       "    </tr>\n",
       "  </thead>\n",
       "  <tbody>\n",
       "    <tr>\n",
       "      <th>0</th>\n",
       "      <td>2.8</td>\n",
       "      <td>1</td>\n",
       "      <td>3</td>\n",
       "      <td>20.19</td>\n",
       "      <td>3.1</td>\n",
       "      <td>3.0</td>\n",
       "      <td>20.19</td>\n",
       "      <td>3.1</td>\n",
       "    </tr>\n",
       "  </tbody>\n",
       "</table>\n",
       "</div>"
      ],
      "text/plain": [
       "   Value  IsThirdPartyConfirmed  start_month  start_year  start_day  \\\n",
       "0    2.8                      1            3       20.19        3.1   \n",
       "\n",
       "   due_month  due_year  due_day  \n",
       "0        3.0     20.19      3.1  "
      ]
     },
     "execution_count": 239,
     "metadata": {},
     "output_type": "execute_result"
    }
   ],
   "source": [
    "test_df.head(1)"
   ]
  },
  {
   "cell_type": "code",
   "execution_count": 238,
   "metadata": {},
   "outputs": [],
   "source": [
    "X_train = train_df.drop('IsDefaulted', axis=1)\n",
    "y_train = train_df['IsDefaulted']"
   ]
  },
  {
   "cell_type": "code",
   "execution_count": 240,
   "metadata": {},
   "outputs": [],
   "source": [
    "X_test = test_df"
   ]
  },
  {
   "cell_type": "code",
   "execution_count": 241,
   "metadata": {},
   "outputs": [
    {
     "data": {
      "text/plain": [
       "XGBClassifier(base_score=0.5, booster='gbtree', colsample_bylevel=1,\n",
       "              colsample_bytree=1, gamma=0, learning_rate=0.1, max_delta_step=0,\n",
       "              max_depth=6, min_child_weight=1, missing=None, n_estimators=500,\n",
       "              n_jobs=1, nthread=None, objective='binary:logistic',\n",
       "              random_state=0, reg_alpha=0, reg_lambda=1, scale_pos_weight=1,\n",
       "              seed=None, silent=True, subsample=1)"
      ]
     },
     "execution_count": 241,
     "metadata": {},
     "output_type": "execute_result"
    }
   ],
   "source": [
    "model.fit(X_train, y_train)"
   ]
  },
  {
   "cell_type": "code",
   "execution_count": 242,
   "metadata": {},
   "outputs": [],
   "source": [
    "predictions = model.predict(X_test)"
   ]
  },
  {
   "cell_type": "code",
   "execution_count": 243,
   "metadata": {},
   "outputs": [],
   "source": [
    "results = {'TransactionId': test['TransactionId'], 'IsDefaulted':predictions}\n",
    "results = pd.DataFrame(results)"
   ]
  },
  {
   "cell_type": "code",
   "execution_count": 244,
   "metadata": {},
   "outputs": [],
   "source": [
    "results.to_csv('XGB_Results.csv', index=False)"
   ]
  },
  {
   "cell_type": "markdown",
   "metadata": {},
   "source": [
    "# 7. Bonus - Things to Explore"
   ]
  },
  {
   "cell_type": "markdown",
   "metadata": {},
   "source": [
    "1. Using one hot encoding for categorical features (ProductCategory)\n",
    "2. Adding more features\n",
    "3. Not dropping Nans\n",
    "4. Class Balancing\n",
    "5. AutoML"
   ]
  },
  {
   "cell_type": "code",
   "execution_count": null,
   "metadata": {},
   "outputs": [],
   "source": []
  }
 ],
 "metadata": {
  "kernelspec": {
   "display_name": "Python 3",
   "language": "python",
   "name": "python3"
  },
  "language_info": {
   "codemirror_mode": {
    "name": "ipython",
    "version": 3
   },
   "file_extension": ".py",
   "mimetype": "text/x-python",
   "name": "python",
   "nbconvert_exporter": "python",
   "pygments_lexer": "ipython3",
   "version": "3.7.1"
  }
 },
 "nbformat": 4,
 "nbformat_minor": 2
}
